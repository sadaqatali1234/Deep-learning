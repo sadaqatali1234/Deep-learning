{
  "nbformat": 4,
  "nbformat_minor": 0,
  "metadata": {
    "accelerator": "GPU",
    "colab": {
      "name": "Flowers_Recognition.ipynb",
      "provenance": [],
      "include_colab_link": true
    },
    "kernelspec": {
      "display_name": "Python 3",
      "name": "python3"
    }
  },
  "cells": [
    {
      "cell_type": "markdown",
      "metadata": {
        "id": "view-in-github",
        "colab_type": "text"
      },
      "source": [
        "<a href=\"https://colab.research.google.com/github/sadaqatali1234/Deep-learning/blob/main/Flowers_Recognition.ipynb\" target=\"_parent\"><img src=\"https://colab.research.google.com/assets/colab-badge.svg\" alt=\"Open In Colab\"/></a>"
      ]
    },
    {
      "cell_type": "markdown",
      "metadata": {
        "id": "BXgJ6uT1NydQ"
      },
      "source": [
        "Assignment: Flowers Recognition <br>\n",
        "Dataset Description:<br>\n",
        "\n",
        "This dataset contains 4242 images of flowers.<br>\n",
        "The data collection is based on the data flicr, google images, yandex images.<br>\n",
        "You can use this datastet to recognize plants from the photo.<br>\n",
        "\n",
        "Attribute Information:<br>\n",
        "The pictures are divided into five classes: chamomile, tulip, rose, sunflower, dandelion.<br>\n",
        "For each class there are about 800 photos. Photos are not high resolution, about 320x240 pixels. <br>\n",
        "<b>Also explore how to resize images in tensorflow and then resize all the images to a same size. </b> <br>\n",
        "This is a Multiclass Classification Problem.<br>\n",
        "\n",
        "\n"
      ]
    },
    {
      "cell_type": "markdown",
      "metadata": {
        "id": "T7vy-ktuOKJH"
      },
      "source": [
        "WORKFLOW : <br>\n",
        "Load Data <br>\n",
        "Split into 60 and 40 ratio.<br>\n",
        "Encode labels.<br>\n",
        "Create Model<br>\n",
        "Compilation Step (Note : Its a Multiclass Classification problem , select loss , metrics according to it)<br>\n",
        "Train the Model.<br>\n",
        "If the model gets overfit tune your model by changing the units , No. of layers , epochs , add dropout layer or add Regularizer according to the need .<br>\n",
        "Prediction should be > 85%<br>\n",
        "Evaluation Step<br>\n",
        "Prediction<br>\n",
        "\n",
        "\n"
      ]
    },
    {
      "cell_type": "markdown",
      "metadata": {
        "id": "ri3Bg5qfPRic"
      },
      "source": [
        "Data : <br>\n",
        "https://drive.google.com/file/d/1-OX6wn5gA-bJpjPNfSyaYQLz-A-AB_uj/view?usp=sharing"
      ]
    },
    {
      "cell_type": "code",
      "metadata": {
        "colab": {
          "base_uri": "https://localhost:8080/"
        },
        "id": "hTtg3WuGTA1o",
        "outputId": "9d89690f-67fc-42e5-ad26-c93788568681"
      },
      "source": [
        "from google.colab import drive\n",
        "drive.mount(\"/content/drive\")"
      ],
      "execution_count": 1,
      "outputs": [
        {
          "output_type": "stream",
          "text": [
            "Drive already mounted at /content/drive; to attempt to forcibly remount, call drive.mount(\"/content/drive\", force_remount=True).\n"
          ],
          "name": "stdout"
        }
      ]
    },
    {
      "cell_type": "code",
      "metadata": {
        "id": "zYq1tLjMThy-"
      },
      "source": [
        "import matplotlib.pyplot as plt\n",
        "import numpy as np\n",
        "from os import listdir\n",
        "import os\n",
        "from os.path import join\n",
        "import cv2\n",
        "import pandas as pd\n"
      ],
      "execution_count": 2,
      "outputs": []
    },
    {
      "cell_type": "code",
      "metadata": {
        "colab": {
          "base_uri": "https://localhost:8080/"
        },
        "id": "gEvOmCFZl8gd",
        "outputId": "ddf56f97-334b-4c37-acf6-50ef5889552a"
      },
      "source": [
        "data = \"/content/drive/MyDrive/flowers/flowers\"\n",
        "\n",
        "# List out the directories inside the main input folder\n",
        "\n",
        "folders = os.listdir(data)\n",
        "\n",
        "print(folders)"
      ],
      "execution_count": 3,
      "outputs": [
        {
          "output_type": "stream",
          "text": [
            "['rose', 'sunflower', 'tulip', 'daisy', 'dandelion']\n"
          ],
          "name": "stdout"
        }
      ]
    },
    {
      "cell_type": "code",
      "metadata": {
        "id": "GQ1mhV25Vy54"
      },
      "source": [
        "image_names = []\n",
        "labels = []\n",
        "data_images = []\n",
        "\n",
        "\n",
        "size = 320,240\n",
        "\n",
        "for folder in folders:\n",
        "    for file in os.listdir(os.path.join(data,folder)):\n",
        "        if file.endswith(\"jpg\"):\n",
        "            image_names.append(os.path.join(data,folder,file))\n",
        "            labels.append(folder)\n",
        "            img = cv2.imread(os.path.join(data,folder,file))\n",
        "            im = cv2.resize(img,size)\n",
        "            data_images.append(im)\n",
        "        else:\n",
        "            continue"
      ],
      "execution_count": 4,
      "outputs": []
    },
    {
      "cell_type": "code",
      "metadata": {
        "colab": {
          "base_uri": "https://localhost:8080/"
        },
        "id": "korySXp3ik73",
        "outputId": "49de3b44-b418-4fae-81f9-b1ec9d68d02d"
      },
      "source": [
        "len(labels)"
      ],
      "execution_count": 5,
      "outputs": [
        {
          "output_type": "execute_result",
          "data": {
            "text/plain": [
              "4323"
            ]
          },
          "metadata": {
            "tags": []
          },
          "execution_count": 5
        }
      ]
    },
    {
      "cell_type": "code",
      "metadata": {
        "colab": {
          "base_uri": "https://localhost:8080/"
        },
        "id": "CNrswT8LyKFZ",
        "outputId": "7054592b-52c3-4be3-ef5b-29b6d4b2820b"
      },
      "source": [
        "len(data_images)"
      ],
      "execution_count": 6,
      "outputs": [
        {
          "output_type": "execute_result",
          "data": {
            "text/plain": [
              "4323"
            ]
          },
          "metadata": {
            "tags": []
          },
          "execution_count": 6
        }
      ]
    },
    {
      "cell_type": "code",
      "metadata": {
        "id": "Ooes5VxJuK0H"
      },
      "source": [
        "label_dummies = pd.get_dummies(labels)\n",
        "\n",
        "labels =  label_dummies.values.argmax(1)"
      ],
      "execution_count": 7,
      "outputs": []
    },
    {
      "cell_type": "code",
      "metadata": {
        "colab": {
          "base_uri": "https://localhost:8080/"
        },
        "id": "Fu33GNFuuqlh",
        "outputId": "02b092b4-af2e-46a1-9d6d-0eb08b0d1ec4"
      },
      "source": [
        "pd.unique(labels)"
      ],
      "execution_count": 8,
      "outputs": [
        {
          "output_type": "execute_result",
          "data": {
            "text/plain": [
              "array([2, 3, 4, 0, 1])"
            ]
          },
          "metadata": {
            "tags": []
          },
          "execution_count": 8
        }
      ]
    },
    {
      "cell_type": "code",
      "metadata": {
        "id": "_Hgrb2oTxFdp"
      },
      "source": [
        "labels=np.asarray(labels).astype(\"float32\")\n",
        "data = np.asarray(data_images).astype(\"float32\")/255.0"
      ],
      "execution_count": 9,
      "outputs": []
    },
    {
      "cell_type": "code",
      "metadata": {
        "colab": {
          "base_uri": "https://localhost:8080/"
        },
        "id": "g0H8HafepZNR",
        "outputId": "4a8a449e-f689-4250-c9d0-41a4ea98a6ca"
      },
      "source": [
        "len(image_names)"
      ],
      "execution_count": 10,
      "outputs": [
        {
          "output_type": "execute_result",
          "data": {
            "text/plain": [
              "4323"
            ]
          },
          "metadata": {
            "tags": []
          },
          "execution_count": 10
        }
      ]
    },
    {
      "cell_type": "code",
      "metadata": {
        "colab": {
          "base_uri": "https://localhost:8080/"
        },
        "id": "xfy7gF6FpYBv",
        "outputId": "91aaf483-f445-4438-8437-29ae8853c875"
      },
      "source": [
        "len(labels)"
      ],
      "execution_count": 11,
      "outputs": [
        {
          "output_type": "execute_result",
          "data": {
            "text/plain": [
              "4323"
            ]
          },
          "metadata": {
            "tags": []
          },
          "execution_count": 11
        }
      ]
    },
    {
      "cell_type": "code",
      "metadata": {
        "colab": {
          "base_uri": "https://localhost:8080/"
        },
        "id": "87wN0gKaybgB",
        "outputId": "1dc22b8f-cb14-4712-d0fe-fba04f11309e"
      },
      "source": [
        "print(f\"Shape of images is :{data.shape}\")\n",
        "print(f\"Shape of labels is :{labels.shape}\")\n"
      ],
      "execution_count": 12,
      "outputs": [
        {
          "output_type": "stream",
          "text": [
            "Shape of images is :(4323, 240, 320, 3)\n",
            "Shape of labels is :(4323,)\n"
          ],
          "name": "stdout"
        }
      ]
    },
    {
      "cell_type": "code",
      "metadata": {
        "id": "LjD3zNMDsSz-"
      },
      "source": [
        "import sklearn\n",
        "from sklearn.model_selection import train_test_split\n",
        "X_train,X_test,y_train,y_test=train_test_split(data,labels,test_size=.40,random_state=1)"
      ],
      "execution_count": 13,
      "outputs": []
    },
    {
      "cell_type": "code",
      "metadata": {
        "colab": {
          "base_uri": "https://localhost:8080/"
        },
        "id": "s511EsxqsuZB",
        "outputId": "bebf517b-b820-4cf6-e6c0-d788f2bc5ff7"
      },
      "source": [
        "print(f\"Shape of training data is:{X_train.shape}\\nShape of testing data is :{X_test.shape}\")"
      ],
      "execution_count": 14,
      "outputs": [
        {
          "output_type": "stream",
          "text": [
            "Shape of training data is:(2593, 240, 320, 3)\n",
            "Shape of testing data is :(1730, 240, 320, 3)\n"
          ],
          "name": "stdout"
        }
      ]
    },
    {
      "cell_type": "code",
      "metadata": {
        "colab": {
          "base_uri": "https://localhost:8080/"
        },
        "id": "b7oGO6wJi-P3",
        "outputId": "c4f95715-e1c0-4298-98f1-79a063d2cfb1"
      },
      "source": [
        "print(f\"Shape of training labels is:{y_train.shape}\\nShape of testing labels is :{y_test.shape}\")"
      ],
      "execution_count": 15,
      "outputs": [
        {
          "output_type": "stream",
          "text": [
            "Shape of training labels is:(2593,)\n",
            "Shape of testing labels is :(1730,)\n"
          ],
          "name": "stdout"
        }
      ]
    },
    {
      "cell_type": "code",
      "metadata": {
        "colab": {
          "base_uri": "https://localhost:8080/"
        },
        "id": "Syu2FZIckr5q",
        "outputId": "32268313-7d7b-4dd3-9ff9-9d0a84c487cd"
      },
      "source": [
        "# Check first image of Training data\n",
        "X_train[0]"
      ],
      "execution_count": 16,
      "outputs": [
        {
          "output_type": "execute_result",
          "data": {
            "text/plain": [
              "array([[[0.16078432, 0.48235294, 0.4509804 ],\n",
              "        [0.12941177, 0.36078432, 0.32156864],\n",
              "        [0.42352942, 0.49019608, 0.41960785],\n",
              "        ...,\n",
              "        [0.16078432, 0.2509804 , 0.24313726],\n",
              "        [0.13725491, 0.23137255, 0.22352941],\n",
              "        [0.13333334, 0.23137255, 0.23137255]],\n",
              "\n",
              "       [[0.29803923, 0.4862745 , 0.41568628],\n",
              "        [0.19215687, 0.5254902 , 0.44705883],\n",
              "        [0.31764707, 0.6666667 , 0.654902  ],\n",
              "        ...,\n",
              "        [0.17254902, 0.2509804 , 0.24705882],\n",
              "        [0.1882353 , 0.28235295, 0.27450982],\n",
              "        [0.16078432, 0.2509804 , 0.2509804 ]],\n",
              "\n",
              "       [[0.22352941, 0.5176471 , 0.47058824],\n",
              "        [0.16078432, 0.4392157 , 0.33333334],\n",
              "        [0.31764707, 0.5803922 , 0.52156866],\n",
              "        ...,\n",
              "        [0.13333334, 0.21960784, 0.21960784],\n",
              "        [0.12941177, 0.22352941, 0.22352941],\n",
              "        [0.20784314, 0.27450982, 0.27058825]],\n",
              "\n",
              "       ...,\n",
              "\n",
              "       [[0.16470589, 0.49411765, 0.34117648],\n",
              "        [0.02352941, 0.47058824, 0.28627452],\n",
              "        [0.03529412, 0.40392157, 0.23137255],\n",
              "        ...,\n",
              "        [0.5372549 , 0.5764706 , 0.4745098 ],\n",
              "        [0.46666667, 0.50980395, 0.42745098],\n",
              "        [0.2901961 , 0.41568628, 0.32156864]],\n",
              "\n",
              "       [[0.16078432, 0.49803922, 0.34509805],\n",
              "        [0.0627451 , 0.47843137, 0.30980393],\n",
              "        [0.02352941, 0.4       , 0.24313726],\n",
              "        ...,\n",
              "        [0.30588236, 0.41960785, 0.31764707],\n",
              "        [0.44313726, 0.5058824 , 0.41960785],\n",
              "        [0.39215687, 0.46666667, 0.38431373]],\n",
              "\n",
              "       [[0.28235295, 0.58431375, 0.44705883],\n",
              "        [0.11372549, 0.5137255 , 0.3529412 ],\n",
              "        [0.00784314, 0.3882353 , 0.23529412],\n",
              "        ...,\n",
              "        [0.12156863, 0.35686275, 0.22352941],\n",
              "        [0.24705882, 0.3764706 , 0.27450982],\n",
              "        [0.3882353 , 0.45882353, 0.3764706 ]]], dtype=float32)"
            ]
          },
          "metadata": {
            "tags": []
          },
          "execution_count": 16
        }
      ]
    },
    {
      "cell_type": "code",
      "metadata": {
        "colab": {
          "base_uri": "https://localhost:8080/"
        },
        "id": "rz_xZCv7WNtm",
        "outputId": "7cae90c5-11ae-45d4-93c9-b6dcf82cf27d"
      },
      "source": [
        "#check first labels of training image\n",
        "y_train[0]"
      ],
      "execution_count": 17,
      "outputs": [
        {
          "output_type": "execute_result",
          "data": {
            "text/plain": [
              "4.0"
            ]
          },
          "metadata": {
            "tags": []
          },
          "execution_count": 17
        }
      ]
    },
    {
      "cell_type": "code",
      "metadata": {
        "id": "mm7WYHSxYO4g"
      },
      "source": [
        "from keras.models import Sequential\n",
        "from keras.layers import Conv2D,MaxPool2D,Flatten,Dense\n",
        "\n",
        "network =Sequential()\n",
        "network.add(Conv2D(16, (2,2),input_shape=(240, 320, 3),activation='relu'))\n",
        "network.add(MaxPool2D(pool_size=(2,2)))\n",
        "network.add(Conv2D(32, (2,2),activation='relu'))\n",
        "network.add(MaxPool2D(pool_size=(2,2)))\n",
        "network.add(Flatten())\n",
        "network.add(Dense(128,activation='relu'))\n",
        "network.add(Dense(5,activation='softmax'))\n"
      ],
      "execution_count": 18,
      "outputs": []
    },
    {
      "cell_type": "code",
      "metadata": {
        "colab": {
          "base_uri": "https://localhost:8080/"
        },
        "id": "et64nng0deu4",
        "outputId": "e4858db5-2182-4631-bb39-4d27225aaa22"
      },
      "source": [
        "network.summary()"
      ],
      "execution_count": 19,
      "outputs": [
        {
          "output_type": "stream",
          "text": [
            "Model: \"sequential\"\n",
            "_________________________________________________________________\n",
            "Layer (type)                 Output Shape              Param #   \n",
            "=================================================================\n",
            "conv2d (Conv2D)              (None, 239, 319, 16)      208       \n",
            "_________________________________________________________________\n",
            "max_pooling2d (MaxPooling2D) (None, 119, 159, 16)      0         \n",
            "_________________________________________________________________\n",
            "conv2d_1 (Conv2D)            (None, 118, 158, 32)      2080      \n",
            "_________________________________________________________________\n",
            "max_pooling2d_1 (MaxPooling2 (None, 59, 79, 32)        0         \n",
            "_________________________________________________________________\n",
            "flatten (Flatten)            (None, 149152)            0         \n",
            "_________________________________________________________________\n",
            "dense (Dense)                (None, 128)               19091584  \n",
            "_________________________________________________________________\n",
            "dense_1 (Dense)              (None, 5)                 645       \n",
            "=================================================================\n",
            "Total params: 19,094,517\n",
            "Trainable params: 19,094,517\n",
            "Non-trainable params: 0\n",
            "_________________________________________________________________\n"
          ],
          "name": "stdout"
        }
      ]
    },
    {
      "cell_type": "code",
      "metadata": {
        "id": "npGn6x2RiJVL"
      },
      "source": [
        "network.compile(loss='sparse_categorical_crossentropy',optimizer='adam',metrics=['accuracy'])"
      ],
      "execution_count": 20,
      "outputs": []
    },
    {
      "cell_type": "code",
      "metadata": {
        "id": "h2d7IENy7RSA"
      },
      "source": [
        "x_val = X_train[:780]\n",
        "partial_x_train = X_train[780:]\n",
        "y_val = y_train[:780]\n",
        "partial_y_train = y_train[780:]"
      ],
      "execution_count": 21,
      "outputs": []
    },
    {
      "cell_type": "code",
      "metadata": {
        "colab": {
          "base_uri": "https://localhost:8080/"
        },
        "id": "py_P71wz2dZ1",
        "outputId": "958e2b7a-ff7a-43e4-d7f2-495ec4032119"
      },
      "source": [
        "batch_size = 128\n",
        "epochs = 14\n",
        "history=network.fit(X_train, y_train,batch_size=batch_size,epochs=epochs,validation_data=(x_val, y_val))"
      ],
      "execution_count": 22,
      "outputs": [
        {
          "output_type": "stream",
          "text": [
            "Epoch 1/14\n",
            "21/21 [==============================] - 40s 279ms/step - loss: 5.2763 - accuracy: 0.2429 - val_loss: 1.2584 - val_accuracy: 0.5282\n",
            "Epoch 2/14\n",
            "21/21 [==============================] - 3s 151ms/step - loss: 1.2468 - accuracy: 0.4829 - val_loss: 1.0773 - val_accuracy: 0.6026\n",
            "Epoch 3/14\n",
            "21/21 [==============================] - 3s 146ms/step - loss: 1.0757 - accuracy: 0.5807 - val_loss: 0.8813 - val_accuracy: 0.6731\n",
            "Epoch 4/14\n",
            "21/21 [==============================] - 3s 147ms/step - loss: 0.8972 - accuracy: 0.6614 - val_loss: 0.7553 - val_accuracy: 0.7436\n",
            "Epoch 5/14\n",
            "21/21 [==============================] - 3s 147ms/step - loss: 0.7923 - accuracy: 0.7108 - val_loss: 0.6242 - val_accuracy: 0.7987\n",
            "Epoch 6/14\n",
            "21/21 [==============================] - 3s 149ms/step - loss: 0.6476 - accuracy: 0.7792 - val_loss: 0.4834 - val_accuracy: 0.8551\n",
            "Epoch 7/14\n",
            "21/21 [==============================] - 3s 153ms/step - loss: 0.5078 - accuracy: 0.8294 - val_loss: 0.4144 - val_accuracy: 0.8808\n",
            "Epoch 8/14\n",
            "21/21 [==============================] - 3s 147ms/step - loss: 0.3855 - accuracy: 0.8928 - val_loss: 0.2667 - val_accuracy: 0.9397\n",
            "Epoch 9/14\n",
            "21/21 [==============================] - 3s 157ms/step - loss: 0.2653 - accuracy: 0.9369 - val_loss: 0.2019 - val_accuracy: 0.9731\n",
            "Epoch 10/14\n",
            "21/21 [==============================] - 3s 154ms/step - loss: 0.2079 - accuracy: 0.9599 - val_loss: 0.1657 - val_accuracy: 0.9679\n",
            "Epoch 11/14\n",
            "21/21 [==============================] - 3s 150ms/step - loss: 0.1671 - accuracy: 0.9653 - val_loss: 0.1001 - val_accuracy: 0.9808\n",
            "Epoch 12/14\n",
            "21/21 [==============================] - 3s 148ms/step - loss: 0.0951 - accuracy: 0.9856 - val_loss: 0.0613 - val_accuracy: 0.9962\n",
            "Epoch 13/14\n",
            "21/21 [==============================] - 3s 147ms/step - loss: 0.0565 - accuracy: 0.9944 - val_loss: 0.0367 - val_accuracy: 0.9987\n",
            "Epoch 14/14\n",
            "21/21 [==============================] - 3s 150ms/step - loss: 0.0393 - accuracy: 0.9981 - val_loss: 0.0283 - val_accuracy: 0.9974\n"
          ],
          "name": "stdout"
        }
      ]
    },
    {
      "cell_type": "code",
      "metadata": {
        "colab": {
          "base_uri": "https://localhost:8080/"
        },
        "id": "kULnJgXx2mjj",
        "outputId": "df914046-f221-40aa-e0cc-cedb221d1e21"
      },
      "source": [
        "history_dict = history.history\n",
        "history_dict.keys()\n",
        "[u'accuracy', u'loss', u'val_accuracy', u'val_loss']"
      ],
      "execution_count": 23,
      "outputs": [
        {
          "output_type": "execute_result",
          "data": {
            "text/plain": [
              "['accuracy', 'loss', 'val_accuracy', 'val_loss']"
            ]
          },
          "metadata": {
            "tags": []
          },
          "execution_count": 23
        }
      ]
    },
    {
      "cell_type": "code",
      "metadata": {
        "colab": {
          "base_uri": "https://localhost:8080/",
          "height": 295
        },
        "id": "MOIHV6GZ3Lnb",
        "outputId": "84c99136-dba7-4d98-c0c8-5aa593c624f3"
      },
      "source": [
        "import matplotlib.pyplot as plt\n",
        "history_dict = history.history\n",
        "loss_values = history_dict['loss']\n",
        "val_loss_values = history_dict['val_loss']\n",
        "epochs = range(1, len(history_dict['accuracy']) + 1)\n",
        "plt.plot(epochs, loss_values, 'bo', label='Training loss')\n",
        "plt.plot(epochs, val_loss_values, 'b', label='Validation loss')\n",
        "plt.title('Training and validation loss')\n",
        "plt.xlabel('Epochs')\n",
        "plt.ylabel('Loss')\n",
        "plt.legend()\n",
        "plt.show()"
      ],
      "execution_count": 24,
      "outputs": [
        {
          "output_type": "display_data",
          "data": {
            "image/png": "[encoded data removed]",
            "text/plain": [
              "<Figure size 432x288 with 1 Axes>"
            ]
          },
          "metadata": {
            "tags": [],
            "needs_background": "light"
          }
        }
      ]
    },
    {
      "cell_type": "code",
      "metadata": {
        "colab": {
          "base_uri": "https://localhost:8080/"
        },
        "id": "XgXa5W3480Wz",
        "outputId": "2da2d88f-d0fa-4a15-809d-3b69e38b0401"
      },
      "source": [
        "network.evaluate(X_test,y_test)"
      ],
      "execution_count": 25,
      "outputs": [
        {
          "output_type": "stream",
          "text": [
            "55/55 [==============================] - 1s 21ms/step - loss: 1.5231 - accuracy: 0.5960\n"
          ],
          "name": "stdout"
        },
        {
          "output_type": "execute_result",
          "data": {
            "text/plain": [
              "[1.5231074094772339, 0.5959537625312805]"
            ]
          },
          "metadata": {
            "tags": []
          },
          "execution_count": 25
        }
      ]
    },
    {
      "cell_type": "code",
      "metadata": {
        "colab": {
          "base_uri": "https://localhost:8080/"
        },
        "id": "ZQajCO4u9DZt",
        "outputId": "9f8828dd-1f5a-4aef-f28d-448cdf753751"
      },
      "source": [
        "pred = network.predict_classes(X_test[:10])\n",
        "for i in range(len(pred)):\n",
        "    print(pred[i],'==>',y_test[i])"
      ],
      "execution_count": 29,
      "outputs": [
        {
          "output_type": "stream",
          "text": [
            "1 ==> 1.0\n",
            "1 ==> 3.0\n",
            "1 ==> 0.0\n",
            "4 ==> 4.0\n",
            "4 ==> 4.0\n",
            "0 ==> 0.0\n",
            "4 ==> 4.0\n",
            "1 ==> 1.0\n",
            "2 ==> 4.0\n",
            "1 ==> 4.0\n"
          ],
          "name": "stdout"
        },
        {
          "output_type": "stream",
          "text": [
            "/usr/local/lib/python3.7/dist-packages/tensorflow/python/keras/engine/sequential.py:450: UserWarning: `model.predict_classes()` is deprecated and will be removed after 2021-01-01. Please use instead:* `np.argmax(model.predict(x), axis=-1)`,   if your model does multi-class classification   (e.g. if it uses a `softmax` last-layer activation).* `(model.predict(x) > 0.5).astype(\"int32\")`,   if your model does binary classification   (e.g. if it uses a `sigmoid` last-layer activation).\n",
            "  warnings.warn('`model.predict_classes()` is deprecated and '\n"
          ],
          "name": "stderr"
        }
      ]
    },
    {
      "cell_type": "code",
      "metadata": {
        "id": "DnCSzKZI9WCS"
      },
      "source": [
        ""
      ],
      "execution_count": null,
      "outputs": []
    }
  ]
}