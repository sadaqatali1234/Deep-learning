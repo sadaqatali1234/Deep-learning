{
  "nbformat": 4,
  "nbformat_minor": 0,
  "metadata": {
    "accelerator": "GPU",
    "colab": {
      "name": "Flowers_Recognition.ipynb",
      "provenance": [],
      "include_colab_link": true
    },
    "kernelspec": {
      "display_name": "Python 3",
      "name": "python3"
    }
  },
  "cells": [
    {
      "cell_type": "markdown",
      "metadata": {
        "id": "view-in-github",
        "colab_type": "text"
      },
      "source": [
        "<a href=\"https://colab.research.google.com/github/sadaqatali1234/Deep-learning/blob/main/Flowers_Recognition.ipynb\" target=\"_parent\"><img src=\"https://colab.research.google.com/assets/colab-badge.svg\" alt=\"Open In Colab\"/></a>"
      ]
    },
    {
      "cell_type": "markdown",
      "metadata": {
        "id": "BXgJ6uT1NydQ"
      },
      "source": [
        "Assignment: Flowers Recognition <br>\n",
        "Dataset Description:<br>\n",
        "\n",
        "This dataset contains 4242 images of flowers.<br>\n",
        "The data collection is based on the data flicr, google images, yandex images.<br>\n",
        "You can use this datastet to recognize plants from the photo.<br>\n",
        "\n",
        "Attribute Information:<br>\n",
        "The pictures are divided into five classes: chamomile, tulip, rose, sunflower, dandelion.<br>\n",
        "For each class there are about 800 photos. Photos are not high resolution, about 320x240 pixels. <br>\n",
        "<b>Also explore how to resize images in tensorflow and then resize all the images to a same size. </b> <br>\n",
        "This is a Multiclass Classification Problem.<br>\n",
        "\n",
        "\n"
      ]
    },
    {
      "cell_type": "markdown",
      "metadata": {
        "id": "T7vy-ktuOKJH"
      },
      "source": [
        "WORKFLOW : <br>\n",
        "Load Data <br>\n",
        "Split into 60 and 40 ratio.<br>\n",
        "Encode labels.<br>\n",
        "Create Model<br>\n",
        "Compilation Step (Note : Its a Multiclass Classification problem , select loss , metrics according to it)<br>\n",
        "Train the Model.<br>\n",
        "If the model gets overfit tune your model by changing the units , No. of layers , epochs , add dropout layer or add Regularizer according to the need .<br>\n",
        "Prediction should be > 85%<br>\n",
        "Evaluation Step<br>\n",
        "Prediction<br>\n",
        "\n",
        "\n"
      ]
    },
    {
      "cell_type": "markdown",
      "metadata": {
        "id": "ri3Bg5qfPRic"
      },
      "source": [
        "Data : <br>\n",
        "https://drive.google.com/file/d/1-OX6wn5gA-bJpjPNfSyaYQLz-A-AB_uj/view?usp=sharing"
      ]
    },
    {
      "cell_type": "code",
      "metadata": {
        "colab": {
          "base_uri": "https://localhost:8080/"
        },
        "id": "hTtg3WuGTA1o",
        "outputId": "93c257ce-2c3c-40d9-dd81-3d5a16427115"
      },
      "source": [
        "from google.colab import drive\n",
        "drive.mount(\"/content/drive\")"
      ],
      "execution_count": 1,
      "outputs": [
        {
          "output_type": "stream",
          "text": [
            "Drive already mounted at /content/drive; to attempt to forcibly remount, call drive.mount(\"/content/drive\", force_remount=True).\n"
          ],
          "name": "stdout"
        }
      ]
    },
    {
      "cell_type": "code",
      "metadata": {
        "id": "zYq1tLjMThy-"
      },
      "source": [
        "import matplotlib.pyplot as plt\n",
        "import numpy as np\n",
        "from os import listdir\n",
        "import os\n",
        "from os.path import join\n",
        "import cv2\n",
        "import pandas as pd\n"
      ],
      "execution_count": 2,
      "outputs": []
    },
    {
      "cell_type": "code",
      "metadata": {
        "colab": {
          "base_uri": "https://localhost:8080/"
        },
        "id": "gEvOmCFZl8gd",
        "outputId": "9b079630-8e89-469c-fdb3-21c85f7359f0"
      },
      "source": [
        "data = \"/content/drive/MyDrive/flowers/flowers\"\n",
        "\n",
        "# List out the directories inside the main input folder\n",
        "\n",
        "folders = os.listdir(data)\n",
        "\n",
        "print(folders)"
      ],
      "execution_count": 3,
      "outputs": [
        {
          "output_type": "stream",
          "text": [
            "['rose', 'sunflower', 'tulip', 'daisy', 'dandelion']\n"
          ],
          "name": "stdout"
        }
      ]
    },
    {
      "cell_type": "code",
      "metadata": {
        "id": "GQ1mhV25Vy54"
      },
      "source": [
        "image_names = []\n",
        "labels = []\n",
        "data_images = []\n",
        "\n",
        "\n",
        "size = 320,240\n",
        "\n",
        "for folder in folders:\n",
        "    for file in os.listdir(os.path.join(data,folder)):\n",
        "        if file.endswith(\"jpg\"):\n",
        "            image_names.append(os.path.join(data,folder,file))\n",
        "            labels.append(folder)\n",
        "            img = cv2.imread(os.path.join(data,folder,file))\n",
        "            im = cv2.resize(img,size)\n",
        "            data_images.append(im)\n",
        "        else:\n",
        "            continue"
      ],
      "execution_count": 4,
      "outputs": []
    },
    {
      "cell_type": "code",
      "metadata": {
        "colab": {
          "base_uri": "https://localhost:8080/"
        },
        "id": "korySXp3ik73",
        "outputId": "977ac87b-2f97-44b9-9f0e-55e2eb4d0cdd"
      },
      "source": [
        "len(labels)"
      ],
      "execution_count": 5,
      "outputs": [
        {
          "output_type": "execute_result",
          "data": {
            "text/plain": [
              "4323"
            ]
          },
          "metadata": {
            "tags": []
          },
          "execution_count": 5
        }
      ]
    },
    {
      "cell_type": "code",
      "metadata": {
        "colab": {
          "base_uri": "https://localhost:8080/"
        },
        "id": "CNrswT8LyKFZ",
        "outputId": "82e2cb5b-9153-4119-a582-59a05e1c111c"
      },
      "source": [
        "len(data_images)"
      ],
      "execution_count": 6,
      "outputs": [
        {
          "output_type": "execute_result",
          "data": {
            "text/plain": [
              "4323"
            ]
          },
          "metadata": {
            "tags": []
          },
          "execution_count": 6
        }
      ]
    },
    {
      "cell_type": "code",
      "metadata": {
        "id": "Ooes5VxJuK0H"
      },
      "source": [
        "label_dummies = pd.get_dummies(labels)\n",
        "\n",
        "labels =  label_dummies.values.argmax(1)"
      ],
      "execution_count": 7,
      "outputs": []
    },
    {
      "cell_type": "code",
      "metadata": {
        "colab": {
          "base_uri": "https://localhost:8080/"
        },
        "id": "Fu33GNFuuqlh",
        "outputId": "bfa97283-d20f-4d1f-8dbe-69e8c6af3e03"
      },
      "source": [
        "pd.unique(labels)"
      ],
      "execution_count": 8,
      "outputs": [
        {
          "output_type": "execute_result",
          "data": {
            "text/plain": [
              "array([2, 3, 4, 0, 1])"
            ]
          },
          "metadata": {
            "tags": []
          },
          "execution_count": 8
        }
      ]
    },
    {
      "cell_type": "code",
      "metadata": {
        "id": "_Hgrb2oTxFdp"
      },
      "source": [
        "labels=np.asarray(labels).astype(\"float32\")\n",
        "data = np.asarray(data_images).astype(\"float32\")/255.0"
      ],
      "execution_count": 9,
      "outputs": []
    },
    {
      "cell_type": "code",
      "metadata": {
        "colab": {
          "base_uri": "https://localhost:8080/"
        },
        "id": "g0H8HafepZNR",
        "outputId": "afd8e43a-f581-4d83-997e-8381826a54da"
      },
      "source": [
        "len(image_names)"
      ],
      "execution_count": 10,
      "outputs": [
        {
          "output_type": "execute_result",
          "data": {
            "text/plain": [
              "4323"
            ]
          },
          "metadata": {
            "tags": []
          },
          "execution_count": 10
        }
      ]
    },
    {
      "cell_type": "code",
      "metadata": {
        "colab": {
          "base_uri": "https://localhost:8080/"
        },
        "id": "xfy7gF6FpYBv",
        "outputId": "24a34880-86c2-4f53-fc33-d720eafdbd50"
      },
      "source": [
        "len(labels)"
      ],
      "execution_count": 11,
      "outputs": [
        {
          "output_type": "execute_result",
          "data": {
            "text/plain": [
              "4323"
            ]
          },
          "metadata": {
            "tags": []
          },
          "execution_count": 11
        }
      ]
    },
    {
      "cell_type": "code",
      "metadata": {
        "colab": {
          "base_uri": "https://localhost:8080/"
        },
        "id": "87wN0gKaybgB",
        "outputId": "938c2c35-6446-4ee1-8609-43e389060da1"
      },
      "source": [
        "print(f\"Shape of images is :{data.shape}\")\n",
        "print(f\"Shape of labels is :{labels.shape}\")\n"
      ],
      "execution_count": 12,
      "outputs": [
        {
          "output_type": "stream",
          "text": [
            "Shape of images is :(4323, 240, 320, 3)\n",
            "Shape of labels is :(4323,)\n"
          ],
          "name": "stdout"
        }
      ]
    },
    {
      "cell_type": "code",
      "metadata": {
        "id": "LjD3zNMDsSz-"
      },
      "source": [
        "import sklearn\n",
        "from sklearn.model_selection import train_test_split\n",
        "X_train,X_test,y_train,y_test=train_test_split(data,labels,test_size=.40,random_state=1)"
      ],
      "execution_count": 13,
      "outputs": []
    },
    {
      "cell_type": "code",
      "metadata": {
        "colab": {
          "base_uri": "https://localhost:8080/"
        },
        "id": "s511EsxqsuZB",
        "outputId": "dcf8361d-b06d-4eb1-f5b0-c7d39e4bb463"
      },
      "source": [
        "print(f\"Shape of training data is:{X_train.shape}\\nShape of testing data is :{X_test.shape}\")"
      ],
      "execution_count": 14,
      "outputs": [
        {
          "output_type": "stream",
          "text": [
            "Shape of training data is:(2593, 240, 320, 3)\n",
            "Shape of testing data is :(1730, 240, 320, 3)\n"
          ],
          "name": "stdout"
        }
      ]
    },
    {
      "cell_type": "code",
      "metadata": {
        "colab": {
          "base_uri": "https://localhost:8080/"
        },
        "id": "b7oGO6wJi-P3",
        "outputId": "e65473c6-a1a9-4902-89fe-c905501d44a8"
      },
      "source": [
        "print(f\"Shape of training labels is:{y_train.shape}\\nShape of testing labels is :{y_test.shape}\")"
      ],
      "execution_count": 15,
      "outputs": [
        {
          "output_type": "stream",
          "text": [
            "Shape of training labels is:(2593,)\n",
            "Shape of testing labels is :(1730,)\n"
          ],
          "name": "stdout"
        }
      ]
    },
    {
      "cell_type": "code",
      "metadata": {
        "colab": {
          "base_uri": "https://localhost:8080/"
        },
        "id": "Syu2FZIckr5q",
        "outputId": "73ff820b-0d9b-476b-a12e-26ca66855d92"
      },
      "source": [
        "# Check first image of Training data\n",
        "X_train[0]"
      ],
      "execution_count": 16,
      "outputs": [
        {
          "output_type": "execute_result",
          "data": {
            "text/plain": [
              "array([[[0.16078432, 0.48235294, 0.4509804 ],\n",
              "        [0.12941177, 0.36078432, 0.32156864],\n",
              "        [0.42352942, 0.49019608, 0.41960785],\n",
              "        ...,\n",
              "        [0.16078432, 0.2509804 , 0.24313726],\n",
              "        [0.13725491, 0.23137255, 0.22352941],\n",
              "        [0.13333334, 0.23137255, 0.23137255]],\n",
              "\n",
              "       [[0.29803923, 0.4862745 , 0.41568628],\n",
              "        [0.19215687, 0.5254902 , 0.44705883],\n",
              "        [0.31764707, 0.6666667 , 0.654902  ],\n",
              "        ...,\n",
              "        [0.17254902, 0.2509804 , 0.24705882],\n",
              "        [0.1882353 , 0.28235295, 0.27450982],\n",
              "        [0.16078432, 0.2509804 , 0.2509804 ]],\n",
              "\n",
              "       [[0.22352941, 0.5176471 , 0.47058824],\n",
              "        [0.16078432, 0.4392157 , 0.33333334],\n",
              "        [0.31764707, 0.5803922 , 0.52156866],\n",
              "        ...,\n",
              "        [0.13333334, 0.21960784, 0.21960784],\n",
              "        [0.12941177, 0.22352941, 0.22352941],\n",
              "        [0.20784314, 0.27450982, 0.27058825]],\n",
              "\n",
              "       ...,\n",
              "\n",
              "       [[0.16470589, 0.49411765, 0.34117648],\n",
              "        [0.02352941, 0.47058824, 0.28627452],\n",
              "        [0.03529412, 0.40392157, 0.23137255],\n",
              "        ...,\n",
              "        [0.5372549 , 0.5764706 , 0.4745098 ],\n",
              "        [0.46666667, 0.50980395, 0.42745098],\n",
              "        [0.2901961 , 0.41568628, 0.32156864]],\n",
              "\n",
              "       [[0.16078432, 0.49803922, 0.34509805],\n",
              "        [0.0627451 , 0.47843137, 0.30980393],\n",
              "        [0.02352941, 0.4       , 0.24313726],\n",
              "        ...,\n",
              "        [0.30588236, 0.41960785, 0.31764707],\n",
              "        [0.44313726, 0.5058824 , 0.41960785],\n",
              "        [0.39215687, 0.46666667, 0.38431373]],\n",
              "\n",
              "       [[0.28235295, 0.58431375, 0.44705883],\n",
              "        [0.11372549, 0.5137255 , 0.3529412 ],\n",
              "        [0.00784314, 0.3882353 , 0.23529412],\n",
              "        ...,\n",
              "        [0.12156863, 0.35686275, 0.22352941],\n",
              "        [0.24705882, 0.3764706 , 0.27450982],\n",
              "        [0.3882353 , 0.45882353, 0.3764706 ]]], dtype=float32)"
            ]
          },
          "metadata": {
            "tags": []
          },
          "execution_count": 16
        }
      ]
    },
    {
      "cell_type": "code",
      "metadata": {
        "colab": {
          "base_uri": "https://localhost:8080/"
        },
        "id": "rz_xZCv7WNtm",
        "outputId": "d6e8068a-8e7b-4960-fbd1-fafc4fd36dce"
      },
      "source": [
        "#check first labels of training image\n",
        "y_train[0]"
      ],
      "execution_count": 17,
      "outputs": [
        {
          "output_type": "execute_result",
          "data": {
            "text/plain": [
              "4.0"
            ]
          },
          "metadata": {
            "tags": []
          },
          "execution_count": 17
        }
      ]
    },
    {
      "cell_type": "code",
      "metadata": {
        "id": "mm7WYHSxYO4g"
      },
      "source": [
        "from keras.models import Sequential\n",
        "from keras.layers import Conv2D,MaxPool2D,Flatten,Dense\n",
        "\n",
        "network =Sequential()\n",
        "network.add(Conv2D(10, (2,2),input_shape=(240, 320, 3),activation='relu'))\n",
        "network.add(MaxPool2D(pool_size=(2,2)))\n",
        "network.add(Conv2D(12, (2,2),activation='relu'))\n",
        "network.add(MaxPool2D(pool_size=(2,2)))\n",
        "network.add(Flatten())\n",
        "network.add(Dense(128,activation='relu'))\n",
        "network.add(Dense(5,activation='softmax'))\n"
      ],
      "execution_count": 18,
      "outputs": []
    },
    {
      "cell_type": "code",
      "metadata": {
        "colab": {
          "base_uri": "https://localhost:8080/"
        },
        "id": "et64nng0deu4",
        "outputId": "b391c8f7-d3bd-4901-e02a-5eca500511e2"
      },
      "source": [
        "network.summary()"
      ],
      "execution_count": 19,
      "outputs": [
        {
          "output_type": "stream",
          "text": [
            "Model: \"sequential\"\n",
            "_________________________________________________________________\n",
            "Layer (type)                 Output Shape              Param #   \n",
            "=================================================================\n",
            "conv2d (Conv2D)              (None, 239, 319, 10)      130       \n",
            "_________________________________________________________________\n",
            "max_pooling2d (MaxPooling2D) (None, 119, 159, 10)      0         \n",
            "_________________________________________________________________\n",
            "conv2d_1 (Conv2D)            (None, 118, 158, 12)      492       \n",
            "_________________________________________________________________\n",
            "max_pooling2d_1 (MaxPooling2 (None, 59, 79, 12)        0         \n",
            "_________________________________________________________________\n",
            "flatten (Flatten)            (None, 55932)             0         \n",
            "_________________________________________________________________\n",
            "dense (Dense)                (None, 128)               7159424   \n",
            "_________________________________________________________________\n",
            "dense_1 (Dense)              (None, 5)                 645       \n",
            "=================================================================\n",
            "Total params: 7,160,691\n",
            "Trainable params: 7,160,691\n",
            "Non-trainable params: 0\n",
            "_________________________________________________________________\n"
          ],
          "name": "stdout"
        }
      ]
    },
    {
      "cell_type": "code",
      "metadata": {
        "id": "npGn6x2RiJVL"
      },
      "source": [
        "network.compile(loss='sparse_categorical_crossentropy',optimizer='adam',metrics=['accuracy'])"
      ],
      "execution_count": 20,
      "outputs": []
    },
    {
      "cell_type": "code",
      "metadata": {
        "id": "h2d7IENy7RSA"
      },
      "source": [
        "x_val = X_train[:1000]\n",
        "partial_x_train = X_train[1000:]\n",
        "y_val = y_train[:1000]\n",
        "partial_y_train = y_train[1000:]"
      ],
      "execution_count": 21,
      "outputs": []
    },
    {
      "cell_type": "code",
      "metadata": {
        "colab": {
          "base_uri": "https://localhost:8080/"
        },
        "id": "py_P71wz2dZ1",
        "outputId": "c991d1b9-05df-49c1-e0b8-3c463b6d38fb"
      },
      "source": [
        "batch_size = 128\n",
        "epochs = 14\n",
        "history=network.fit(X_train, y_train,batch_size=batch_size,epochs=epochs,validation_data=(x_val, y_val))"
      ],
      "execution_count": 22,
      "outputs": [
        {
          "output_type": "stream",
          "text": [
            "Epoch 1/14\n",
            "21/21 [==============================] - 38s 245ms/step - loss: 4.9674 - accuracy: 0.2232 - val_loss: 1.6393 - val_accuracy: 0.2850\n",
            "Epoch 2/14\n",
            "21/21 [==============================] - 3s 128ms/step - loss: 1.5501 - accuracy: 0.3202 - val_loss: 1.3883 - val_accuracy: 0.3740\n",
            "Epoch 3/14\n",
            "21/21 [==============================] - 2s 119ms/step - loss: 1.3602 - accuracy: 0.4003 - val_loss: 1.1131 - val_accuracy: 0.5370\n",
            "Epoch 4/14\n",
            "21/21 [==============================] - 2s 119ms/step - loss: 1.0925 - accuracy: 0.5435 - val_loss: 0.9401 - val_accuracy: 0.6430\n",
            "Epoch 5/14\n",
            "21/21 [==============================] - 3s 121ms/step - loss: 0.9289 - accuracy: 0.6410 - val_loss: 0.8127 - val_accuracy: 0.7280\n",
            "Epoch 6/14\n",
            "21/21 [==============================] - 3s 122ms/step - loss: 0.7735 - accuracy: 0.7414 - val_loss: 0.6567 - val_accuracy: 0.7930\n",
            "Epoch 7/14\n",
            "21/21 [==============================] - 3s 123ms/step - loss: 0.6662 - accuracy: 0.7814 - val_loss: 0.5587 - val_accuracy: 0.8380\n",
            "Epoch 8/14\n",
            "21/21 [==============================] - 2s 120ms/step - loss: 0.5404 - accuracy: 0.8388 - val_loss: 0.4765 - val_accuracy: 0.8750\n",
            "Epoch 9/14\n",
            "21/21 [==============================] - 2s 119ms/step - loss: 0.4430 - accuracy: 0.8727 - val_loss: 0.3967 - val_accuracy: 0.8910\n",
            "Epoch 10/14\n",
            "21/21 [==============================] - 2s 118ms/step - loss: 0.3631 - accuracy: 0.9066 - val_loss: 0.3188 - val_accuracy: 0.9170\n",
            "Epoch 11/14\n",
            "21/21 [==============================] - 2s 121ms/step - loss: 0.3189 - accuracy: 0.9267 - val_loss: 0.2376 - val_accuracy: 0.9520\n",
            "Epoch 12/14\n",
            "21/21 [==============================] - 3s 120ms/step - loss: 0.2299 - accuracy: 0.9578 - val_loss: 0.1930 - val_accuracy: 0.9650\n",
            "Epoch 13/14\n",
            "21/21 [==============================] - 3s 126ms/step - loss: 0.1898 - accuracy: 0.9604 - val_loss: 0.1520 - val_accuracy: 0.9790\n",
            "Epoch 14/14\n",
            "21/21 [==============================] - 2s 115ms/step - loss: 0.1488 - accuracy: 0.9790 - val_loss: 0.1574 - val_accuracy: 0.9730\n"
          ],
          "name": "stdout"
        }
      ]
    },
    {
      "cell_type": "code",
      "metadata": {
        "colab": {
          "base_uri": "https://localhost:8080/"
        },
        "id": "kULnJgXx2mjj",
        "outputId": "d81d6e47-b400-400f-956a-711b2bc3d1c3"
      },
      "source": [
        "history_dict = history.history\n",
        "history_dict.keys()\n",
        "[u'accuracy', u'loss', u'val_accuracy', u'val_loss']"
      ],
      "execution_count": 23,
      "outputs": [
        {
          "output_type": "execute_result",
          "data": {
            "text/plain": [
              "['accuracy', 'loss', 'val_accuracy', 'val_loss']"
            ]
          },
          "metadata": {
            "tags": []
          },
          "execution_count": 23
        }
      ]
    },
    {
      "cell_type": "code",
      "metadata": {
        "colab": {
          "base_uri": "https://localhost:8080/",
          "height": 295
        },
        "id": "MOIHV6GZ3Lnb",
        "outputId": "878df37f-b966-4f7c-8da3-c11ede5c9e0b"
      },
      "source": [
        "import matplotlib.pyplot as plt\n",
        "history_dict = history.history\n",
        "loss_values = history_dict['loss']\n",
        "val_loss_values = history_dict['val_loss']\n",
        "epochs = range(1, len(history_dict['accuracy']) + 1)\n",
        "plt.plot(epochs, loss_values, 'bo', label='Training loss')\n",
        "plt.plot(epochs, val_loss_values, 'b', label='Validation loss')\n",
        "plt.title('Training and validation loss')\n",
        "plt.xlabel('Epochs')\n",
        "plt.ylabel('Loss')\n",
        "plt.legend()\n",
        "plt.show()"
      ],
      "execution_count": 24,
      "outputs": [
        {
          "output_type": "display_data",
          "data": {
            "image/png": "[encoded data removed]",
            "text/plain": [
              "<Figure size 432x288 with 1 Axes>"
            ]
          },
          "metadata": {
            "tags": [],
            "needs_background": "light"
          }
        }
      ]
    },
    {
      "cell_type": "code",
      "metadata": {
        "colab": {
          "base_uri": "https://localhost:8080/"
        },
        "id": "XgXa5W3480Wz",
        "outputId": "ed20e870-cd9b-4bb1-d1f8-9819b2b7c18b"
      },
      "source": [
        "network.evaluate(X_test,y_test)"
      ],
      "execution_count": 25,
      "outputs": [
        {
          "output_type": "stream",
          "text": [
            "55/55 [==============================] - 1s 20ms/step - loss: 1.3566 - accuracy: 0.5416\n"
          ],
          "name": "stdout"
        },
        {
          "output_type": "execute_result",
          "data": {
            "text/plain": [
              "[1.356563687324524, 0.5416185259819031]"
            ]
          },
          "metadata": {
            "tags": []
          },
          "execution_count": 25
        }
      ]
    },
    {
      "cell_type": "code",
      "metadata": {
        "colab": {
          "base_uri": "https://localhost:8080/"
        },
        "id": "ZQajCO4u9DZt",
        "outputId": "c1372768-f12e-4075-a982-706f8380b89a"
      },
      "source": [
        "pred = network.predict_classes(X_test[:10])\n",
        "for i in range(len(pred)):\n",
        "    print(pred[i],'==>',y_test[i])"
      ],
      "execution_count": 26,
      "outputs": [
        {
          "output_type": "stream",
          "text": [
            "1 ==> 1.0\n",
            "1 ==> 3.0\n",
            "4 ==> 0.0\n",
            "4 ==> 4.0\n",
            "4 ==> 4.0\n",
            "0 ==> 0.0\n",
            "4 ==> 4.0\n",
            "1 ==> 1.0\n",
            "2 ==> 4.0\n",
            "1 ==> 4.0\n"
          ],
          "name": "stdout"
        },
        {
          "output_type": "stream",
          "text": [
            "/usr/local/lib/python3.7/dist-packages/tensorflow/python/keras/engine/sequential.py:450: UserWarning: `model.predict_classes()` is deprecated and will be removed after 2021-01-01. Please use instead:* `np.argmax(model.predict(x), axis=-1)`,   if your model does multi-class classification   (e.g. if it uses a `softmax` last-layer activation).* `(model.predict(x) > 0.5).astype(\"int32\")`,   if your model does binary classification   (e.g. if it uses a `sigmoid` last-layer activation).\n",
            "  warnings.warn('`model.predict_classes()` is deprecated and '\n"
          ],
          "name": "stderr"
        }
      ]
    },
    {
      "cell_type": "code",
      "metadata": {
        "colab": {
          "base_uri": "https://localhost:8080/",
          "height": 324
        },
        "id": "LAQHamBp_xG6",
        "outputId": "6ec19b7d-52c3-4607-d137-800a7c7d0dcd"
      },
      "source": [
        "plt.figure(figsize=(20,5))\n",
        "plt.subplot(1, 2, 1 )\n",
        "plt.hist(y_test[:10])\n",
        "plt.xlabel('original target value')\n",
        "plt.ylabel('count')\n",
        "plt.subplot(1, 2, 2)\n",
        "plt.hist(pred)\n",
        "plt.xlabel('aggregated target value')\n",
        "plt.ylabel('count')\n",
        "plt.show()"
      ],
      "execution_count": 28,
      "outputs": [
        {
          "output_type": "display_data",
          "data": {
            "image/png": "[encoded data removed]",
            "text/plain": [
              "<Figure size 1440x360 with 2 Axes>"
            ]
          },
          "metadata": {
            "tags": [],
            "needs_background": "light"
          }
        }
      ]
    },
    {
      "cell_type": "code",
      "metadata": {
        "id": "DnCSzKZI9WCS"
      },
      "source": [
        ""
      ],
      "execution_count": 27,
      "outputs": []
    }
  ]
}