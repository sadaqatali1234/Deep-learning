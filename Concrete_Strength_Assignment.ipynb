{
  "nbformat": 4,
  "nbformat_minor": 0,
  "metadata": {
    "kernelspec": {
      "display_name": "Python 3",
      "language": "python",
      "name": "python3"
    },
    "language_info": {
      "codemirror_mode": {
        "name": "ipython",
        "version": 3
      },
      "file_extension": ".py",
      "mimetype": "text/x-python",
      "name": "python",
      "nbconvert_exporter": "python",
      "pygments_lexer": "ipython3",
      "version": "3.7.6"
    },
    "colab": {
      "name": "Concrete Strength Assignment.ipynb",
      "provenance": [],
      "include_colab_link": true
    }
  },
  "cells": [
    {
      "cell_type": "markdown",
      "metadata": {
        "id": "view-in-github",
        "colab_type": "text"
      },
      "source": [
        "<a href=\"https://colab.research.google.com/github/sadaqatali1234/Deep-learning/blob/main/Concrete_Strength_Assignment.ipynb\" target=\"_parent\"><img src=\"https://colab.research.google.com/assets/colab-badge.svg\" alt=\"Open In Colab\"/></a>"
      ]
    },
    {
      "cell_type": "markdown",
      "metadata": {
        "id": "nnlyIQflOZJG"
      },
      "source": [
        "# Assignment: Compresive Strength Concrete Problem\n",
        "\n",
        "\n",
        "### Abstract: \n",
        "\n",
        "Concrete is the most important material in civil engineering. The concrete compressive strength (concrete strength to bear the load) is a highly nonlinear function of age and ingredients.  <br><br>\n",
        "\n",
        "<table border=\"1\"  cellpadding=\"6\" bordercolor=\"red\">\n",
        "\t<tbody>\n",
        "        <tr>\n",
        "\t\t<td bgcolor=\"#DDEEFF\"><p class=\"normal\"><b>Data Set Characteristics:&nbsp;&nbsp;</b></p></td>\n",
        "\t\t<td><p class=\"normal\">Multivariate</p></td>\n",
        "\t\t<td bgcolor=\"#DDEEFF\"><p class=\"normal\"><b>Number of Instances:</b></p></td>\n",
        "\t\t<td><p class=\"normal\">1030</p></td>\n",
        "\t\t<td bgcolor=\"#DDEEFF\"><p class=\"normal\"><b>Area:</b></p></td>\n",
        "\t\t<td><p class=\"normal\">Physical</p></td>\n",
        "        </tr>\n",
        "     </tbody>\n",
        "    </table>\n",
        "<table border=\"1\" cellpadding=\"6\">\n",
        "    <tbody>\n",
        "        <tr>\n",
        "            <td bgcolor=\"#DDEEFF\"><p class=\"normal\"><b>Attribute Characteristics:</b></p></td>\n",
        "            <td><p class=\"normal\">Real</p></td>\n",
        "            <td bgcolor=\"#DDEEFF\"><p class=\"normal\"><b>Number of Attributes:</b></p></td>\n",
        "            <td><p class=\"normal\">9</p></td>\n",
        "            <td bgcolor=\"#DDEEFF\"><p class=\"normal\"><b>Date Donated</b></p></td>\n",
        "            <td><p class=\"normal\">2007-08-03</p></td>\n",
        "        </tr>\n",
        "     </tbody>\n",
        "    </table>\n",
        "<table border=\"1\" cellpadding=\"6\">\t\n",
        "    <tbody>\n",
        "    <tr>\n",
        "\t\t<td bgcolor=\"#DDEEFF\"><p class=\"normal\"><b>Associated Tasks:</b></p></td>\n",
        "\t\t<td><p class=\"normal\">Regression</p></td>\n",
        "\t\t<td bgcolor=\"#DDEEFF\"><p class=\"normal\"><b>Missing Values?</b></p></td>\n",
        "\t\t<td><p class=\"normal\">N/A</p></td>\n",
        "\t\t<td bgcolor=\"#DDEEFF\"><p class=\"normal\"><b>Number of Web Hits:</b></p></td>\n",
        "\t\t<td><p class=\"normal\">231464</p></td>\n",
        "\t</tr>\n",
        "    </tbody>\n",
        "    </table>"
      ]
    },
    {
      "cell_type": "markdown",
      "metadata": {
        "id": "wDVdvMBAOZJL"
      },
      "source": [
        "###  Description:\n",
        "| Features Name | Data Type | Measurement | Description |\n",
        "| -- | -- | -- | -- |\n",
        "Cement (component 1) | quantitative | kg in a m3 mixture | Input Variable\n",
        "Blast Furnace Slag (component 2) | quantitative | kg in a m3 mixture | Input Variable\n",
        "Fly Ash (component 3) | quantitative | kg in a m3 mixture | Input Variable\n",
        "Water (component 4) | quantitative | kg in a m3 mixture | Input Variable\n",
        "Superplasticizer (component 5) | quantitative | kg in a m3 mixture | Input Variable\n",
        "Coarse Aggregate (component 6) | quantitative | kg in a m3 mixture | Input Variable\n",
        "Fine Aggregate (component 7) | quantitative | kg in a m3 mixture | Input Variable\n",
        "Age | quantitative | Day (1~365) | Input Variable\n",
        "Concrete compressive strength | quantitative | MPa | Output Variable\n",
        "\n",
        "### WORKFLOW :\n",
        "- Load Data\n",
        "- Check Missing Values ( If Exist ; Fill each record with mean of its feature )\n",
        "- Standardized the Input Variables. **Hint**: Centeralized the data\n",
        "- Split into 50% Training(Samples,Labels) , 30% Test(Samples,Labels) and 20% Validation Data(Samples,Labels).\n",
        "- Model : input Layer (No. of features ), 3 hidden layers including 10,8,6 unit & Output Layer with activation function relu/tanh (check by experiment).\n",
        "- Compilation Step (Note : Its a Regression problem , select loss , metrics according to it)\n",
        "- Train the Model with Epochs (100) and validate it\n",
        "- If the model gets overfit tune your model by changing the units , No. of layers , activation function , epochs , add dropout layer or add Regularizer according to the need .\n",
        "- Evaluation Step\n",
        "- Prediction\n"
      ]
    },
    {
      "cell_type": "markdown",
      "metadata": {
        "id": "8_lYngD2OZJN"
      },
      "source": [
        "# Load Data:\n",
        "[Click Here to Download DataSet](https://github.com/ramsha275/ML_Datasets/blob/main/compresive_strength_concrete.csv)"
      ]
    },
    {
      "cell_type": "code",
      "metadata": {
        "id": "FgrSF5j_OZJO"
      },
      "source": [
        "# importing libarires\n",
        "import tensorflow as tf\n",
        "import numpy as np\n",
        "import pandas as pd\n",
        "from tensorflow.keras import models, layers , optimizers"
      ],
      "execution_count": 1,
      "outputs": []
    },
    {
      "cell_type": "code",
      "metadata": {
        "colab": {
          "base_uri": "https://localhost:8080/"
        },
        "id": "thBGRKLPPHZY",
        "outputId": "093be847-f355-40d6-def3-d8de1252cd3d"
      },
      "source": [
        "# drive mounting\n",
        "from google.colab import drive\n",
        "drive.mount(\"/content/gdrive\")"
      ],
      "execution_count": 2,
      "outputs": [
        {
          "output_type": "stream",
          "text": [
            "Drive already mounted at /content/gdrive; to attempt to forcibly remount, call drive.mount(\"/content/gdrive\", force_remount=True).\n"
          ],
          "name": "stdout"
        }
      ]
    },
    {
      "cell_type": "code",
      "metadata": {
        "id": "H43i_gBFPe02"
      },
      "source": [
        "# loading data \n",
        "df= pd.read_csv(\"/content/gdrive/MyDrive/compresive_strength_concrete.csv\")"
      ],
      "execution_count": 3,
      "outputs": []
    },
    {
      "cell_type": "code",
      "metadata": {
        "colab": {
          "base_uri": "https://localhost:8080/",
          "height": 262
        },
        "id": "oH6RIxSbQy3d",
        "outputId": "b879a89d-6d8d-4ca9-e802-2e5d282af45e"
      },
      "source": [
        "# check first five rows\n",
        "df.head()"
      ],
      "execution_count": 4,
      "outputs": [
        {
          "output_type": "execute_result",
          "data": {
            "text/html": [
              "<div>\n",
              "<style scoped>\n",
              "    .dataframe tbody tr th:only-of-type {\n",
              "        vertical-align: middle;\n",
              "    }\n",
              "\n",
              "    .dataframe tbody tr th {\n",
              "        vertical-align: top;\n",
              "    }\n",
              "\n",
              "    .dataframe thead th {\n",
              "        text-align: right;\n",
              "    }\n",
              "</style>\n",
              "<table border=\"1\" class=\"dataframe\">\n",
              "  <thead>\n",
              "    <tr style=\"text-align: right;\">\n",
              "      <th></th>\n",
              "      <th>Cement (component 1)(kg in a m^3 mixture)</th>\n",
              "      <th>Blast Furnace Slag (component 2)(kg in a m^3 mixture)</th>\n",
              "      <th>Fly Ash (component 3)(kg in a m^3 mixture)</th>\n",
              "      <th>Water  (component 4)(kg in a m^3 mixture)</th>\n",
              "      <th>Superplasticizer (component 5)(kg in a m^3 mixture)</th>\n",
              "      <th>Coarse Aggregate  (component 6)(kg in a m^3 mixture)</th>\n",
              "      <th>Fine Aggregate (component 7)(kg in a m^3 mixture)</th>\n",
              "      <th>Age (day)</th>\n",
              "      <th>Concrete compressive strength(MPa, megapascals)</th>\n",
              "    </tr>\n",
              "  </thead>\n",
              "  <tbody>\n",
              "    <tr>\n",
              "      <th>0</th>\n",
              "      <td>540.0</td>\n",
              "      <td>0.0</td>\n",
              "      <td>0.0</td>\n",
              "      <td>162.0</td>\n",
              "      <td>2.5</td>\n",
              "      <td>1040.0</td>\n",
              "      <td>676.0</td>\n",
              "      <td>28</td>\n",
              "      <td>79.99</td>\n",
              "    </tr>\n",
              "    <tr>\n",
              "      <th>1</th>\n",
              "      <td>540.0</td>\n",
              "      <td>0.0</td>\n",
              "      <td>0.0</td>\n",
              "      <td>162.0</td>\n",
              "      <td>2.5</td>\n",
              "      <td>1055.0</td>\n",
              "      <td>676.0</td>\n",
              "      <td>28</td>\n",
              "      <td>61.89</td>\n",
              "    </tr>\n",
              "    <tr>\n",
              "      <th>2</th>\n",
              "      <td>332.5</td>\n",
              "      <td>142.5</td>\n",
              "      <td>0.0</td>\n",
              "      <td>228.0</td>\n",
              "      <td>0.0</td>\n",
              "      <td>932.0</td>\n",
              "      <td>594.0</td>\n",
              "      <td>270</td>\n",
              "      <td>40.27</td>\n",
              "    </tr>\n",
              "    <tr>\n",
              "      <th>3</th>\n",
              "      <td>332.5</td>\n",
              "      <td>142.5</td>\n",
              "      <td>0.0</td>\n",
              "      <td>228.0</td>\n",
              "      <td>0.0</td>\n",
              "      <td>932.0</td>\n",
              "      <td>594.0</td>\n",
              "      <td>365</td>\n",
              "      <td>41.05</td>\n",
              "    </tr>\n",
              "    <tr>\n",
              "      <th>4</th>\n",
              "      <td>198.6</td>\n",
              "      <td>132.4</td>\n",
              "      <td>0.0</td>\n",
              "      <td>192.0</td>\n",
              "      <td>0.0</td>\n",
              "      <td>978.4</td>\n",
              "      <td>825.5</td>\n",
              "      <td>360</td>\n",
              "      <td>44.30</td>\n",
              "    </tr>\n",
              "  </tbody>\n",
              "</table>\n",
              "</div>"
            ],
            "text/plain": [
              "   Cement (component 1)(kg in a m^3 mixture)  ...  Concrete compressive strength(MPa, megapascals) \n",
              "0                                      540.0  ...                                             79.99\n",
              "1                                      540.0  ...                                             61.89\n",
              "2                                      332.5  ...                                             40.27\n",
              "3                                      332.5  ...                                             41.05\n",
              "4                                      198.6  ...                                             44.30\n",
              "\n",
              "[5 rows x 9 columns]"
            ]
          },
          "metadata": {
            "tags": []
          },
          "execution_count": 4
        }
      ]
    },
    {
      "cell_type": "code",
      "metadata": {
        "colab": {
          "base_uri": "https://localhost:8080/"
        },
        "id": "q8S-QLsBR4Bd",
        "outputId": "4dc8e7b5-9c4c-43e3-fc6f-6643ac414cce"
      },
      "source": [
        "# check null values in dataframe\n",
        "df.isnull().sum()"
      ],
      "execution_count": 5,
      "outputs": [
        {
          "output_type": "execute_result",
          "data": {
            "text/plain": [
              "Cement (component 1)(kg in a m^3 mixture)                0\n",
              "Blast Furnace Slag (component 2)(kg in a m^3 mixture)    0\n",
              "Fly Ash (component 3)(kg in a m^3 mixture)               0\n",
              "Water  (component 4)(kg in a m^3 mixture)                0\n",
              "Superplasticizer (component 5)(kg in a m^3 mixture)      0\n",
              "Coarse Aggregate  (component 6)(kg in a m^3 mixture)     0\n",
              "Fine Aggregate (component 7)(kg in a m^3 mixture)        0\n",
              "Age (day)                                                0\n",
              "Concrete compressive strength(MPa, megapascals)          0\n",
              "dtype: int64"
            ]
          },
          "metadata": {
            "tags": []
          },
          "execution_count": 5
        }
      ]
    },
    {
      "cell_type": "code",
      "metadata": {
        "colab": {
          "base_uri": "https://localhost:8080/",
          "height": 405
        },
        "id": "NAoNRjCbSKxZ",
        "outputId": "7a65b0b9-334c-443a-e70c-6bdd323a7d39"
      },
      "source": [
        "#statistical description of dataframe\n",
        "df.describe()"
      ],
      "execution_count": 6,
      "outputs": [
        {
          "output_type": "execute_result",
          "data": {
            "text/html": [
              "<div>\n",
              "<style scoped>\n",
              "    .dataframe tbody tr th:only-of-type {\n",
              "        vertical-align: middle;\n",
              "    }\n",
              "\n",
              "    .dataframe tbody tr th {\n",
              "        vertical-align: top;\n",
              "    }\n",
              "\n",
              "    .dataframe thead th {\n",
              "        text-align: right;\n",
              "    }\n",
              "</style>\n",
              "<table border=\"1\" class=\"dataframe\">\n",
              "  <thead>\n",
              "    <tr style=\"text-align: right;\">\n",
              "      <th></th>\n",
              "      <th>Cement (component 1)(kg in a m^3 mixture)</th>\n",
              "      <th>Blast Furnace Slag (component 2)(kg in a m^3 mixture)</th>\n",
              "      <th>Fly Ash (component 3)(kg in a m^3 mixture)</th>\n",
              "      <th>Water  (component 4)(kg in a m^3 mixture)</th>\n",
              "      <th>Superplasticizer (component 5)(kg in a m^3 mixture)</th>\n",
              "      <th>Coarse Aggregate  (component 6)(kg in a m^3 mixture)</th>\n",
              "      <th>Fine Aggregate (component 7)(kg in a m^3 mixture)</th>\n",
              "      <th>Age (day)</th>\n",
              "      <th>Concrete compressive strength(MPa, megapascals)</th>\n",
              "    </tr>\n",
              "  </thead>\n",
              "  <tbody>\n",
              "    <tr>\n",
              "      <th>count</th>\n",
              "      <td>1030.000000</td>\n",
              "      <td>1030.000000</td>\n",
              "      <td>1030.000000</td>\n",
              "      <td>1030.000000</td>\n",
              "      <td>1030.000000</td>\n",
              "      <td>1030.000000</td>\n",
              "      <td>1030.000000</td>\n",
              "      <td>1030.000000</td>\n",
              "      <td>1030.000000</td>\n",
              "    </tr>\n",
              "    <tr>\n",
              "      <th>mean</th>\n",
              "      <td>281.167864</td>\n",
              "      <td>73.895825</td>\n",
              "      <td>54.188350</td>\n",
              "      <td>181.567282</td>\n",
              "      <td>6.204660</td>\n",
              "      <td>972.918932</td>\n",
              "      <td>773.580485</td>\n",
              "      <td>45.662136</td>\n",
              "      <td>35.817961</td>\n",
              "    </tr>\n",
              "    <tr>\n",
              "      <th>std</th>\n",
              "      <td>104.506364</td>\n",
              "      <td>86.279342</td>\n",
              "      <td>63.997004</td>\n",
              "      <td>21.354219</td>\n",
              "      <td>5.973841</td>\n",
              "      <td>77.753954</td>\n",
              "      <td>80.175980</td>\n",
              "      <td>63.169912</td>\n",
              "      <td>16.705742</td>\n",
              "    </tr>\n",
              "    <tr>\n",
              "      <th>min</th>\n",
              "      <td>102.000000</td>\n",
              "      <td>0.000000</td>\n",
              "      <td>0.000000</td>\n",
              "      <td>121.800000</td>\n",
              "      <td>0.000000</td>\n",
              "      <td>801.000000</td>\n",
              "      <td>594.000000</td>\n",
              "      <td>1.000000</td>\n",
              "      <td>2.330000</td>\n",
              "    </tr>\n",
              "    <tr>\n",
              "      <th>25%</th>\n",
              "      <td>192.375000</td>\n",
              "      <td>0.000000</td>\n",
              "      <td>0.000000</td>\n",
              "      <td>164.900000</td>\n",
              "      <td>0.000000</td>\n",
              "      <td>932.000000</td>\n",
              "      <td>730.950000</td>\n",
              "      <td>7.000000</td>\n",
              "      <td>23.710000</td>\n",
              "    </tr>\n",
              "    <tr>\n",
              "      <th>50%</th>\n",
              "      <td>272.900000</td>\n",
              "      <td>22.000000</td>\n",
              "      <td>0.000000</td>\n",
              "      <td>185.000000</td>\n",
              "      <td>6.400000</td>\n",
              "      <td>968.000000</td>\n",
              "      <td>779.500000</td>\n",
              "      <td>28.000000</td>\n",
              "      <td>34.445000</td>\n",
              "    </tr>\n",
              "    <tr>\n",
              "      <th>75%</th>\n",
              "      <td>350.000000</td>\n",
              "      <td>142.950000</td>\n",
              "      <td>118.300000</td>\n",
              "      <td>192.000000</td>\n",
              "      <td>10.200000</td>\n",
              "      <td>1029.400000</td>\n",
              "      <td>824.000000</td>\n",
              "      <td>56.000000</td>\n",
              "      <td>46.135000</td>\n",
              "    </tr>\n",
              "    <tr>\n",
              "      <th>max</th>\n",
              "      <td>540.000000</td>\n",
              "      <td>359.400000</td>\n",
              "      <td>200.100000</td>\n",
              "      <td>247.000000</td>\n",
              "      <td>32.200000</td>\n",
              "      <td>1145.000000</td>\n",
              "      <td>992.600000</td>\n",
              "      <td>365.000000</td>\n",
              "      <td>82.600000</td>\n",
              "    </tr>\n",
              "  </tbody>\n",
              "</table>\n",
              "</div>"
            ],
            "text/plain": [
              "       Cement (component 1)(kg in a m^3 mixture)  ...  Concrete compressive strength(MPa, megapascals) \n",
              "count                                1030.000000  ...                                       1030.000000\n",
              "mean                                  281.167864  ...                                         35.817961\n",
              "std                                   104.506364  ...                                         16.705742\n",
              "min                                   102.000000  ...                                          2.330000\n",
              "25%                                   192.375000  ...                                         23.710000\n",
              "50%                                   272.900000  ...                                         34.445000\n",
              "75%                                   350.000000  ...                                         46.135000\n",
              "max                                   540.000000  ...                                         82.600000\n",
              "\n",
              "[8 rows x 9 columns]"
            ]
          },
          "metadata": {
            "tags": []
          },
          "execution_count": 6
        }
      ]
    },
    {
      "cell_type": "code",
      "metadata": {
        "colab": {
          "base_uri": "https://localhost:8080/"
        },
        "id": "NHZ4H5GPSUz8",
        "outputId": "a12ab045-bb3d-4a7d-acba-42ea40b76ded"
      },
      "source": [
        "# check all information of dataframe\n",
        "df.info()"
      ],
      "execution_count": 7,
      "outputs": [
        {
          "output_type": "stream",
          "text": [
            "<class 'pandas.core.frame.DataFrame'>\n",
            "RangeIndex: 1030 entries, 0 to 1029\n",
            "Data columns (total 9 columns):\n",
            " #   Column                                                 Non-Null Count  Dtype  \n",
            "---  ------                                                 --------------  -----  \n",
            " 0   Cement (component 1)(kg in a m^3 mixture)              1030 non-null   float64\n",
            " 1   Blast Furnace Slag (component 2)(kg in a m^3 mixture)  1030 non-null   float64\n",
            " 2   Fly Ash (component 3)(kg in a m^3 mixture)             1030 non-null   float64\n",
            " 3   Water  (component 4)(kg in a m^3 mixture)              1030 non-null   float64\n",
            " 4   Superplasticizer (component 5)(kg in a m^3 mixture)    1030 non-null   float64\n",
            " 5   Coarse Aggregate  (component 6)(kg in a m^3 mixture)   1030 non-null   float64\n",
            " 6   Fine Aggregate (component 7)(kg in a m^3 mixture)      1030 non-null   float64\n",
            " 7   Age (day)                                              1030 non-null   int64  \n",
            " 8   Concrete compressive strength(MPa, megapascals)        1030 non-null   float64\n",
            "dtypes: float64(8), int64(1)\n",
            "memory usage: 72.5 KB\n"
          ],
          "name": "stdout"
        }
      ]
    },
    {
      "cell_type": "code",
      "metadata": {
        "colab": {
          "base_uri": "https://localhost:8080/"
        },
        "id": "1BOyIHonVu9W",
        "outputId": "787e56f7-78eb-44c4-9178-2f6fa706e331"
      },
      "source": [
        "# to gets columns name\n",
        "df.keys()"
      ],
      "execution_count": 8,
      "outputs": [
        {
          "output_type": "execute_result",
          "data": {
            "text/plain": [
              "Index(['Cement (component 1)(kg in a m^3 mixture)',\n",
              "       'Blast Furnace Slag (component 2)(kg in a m^3 mixture)',\n",
              "       'Fly Ash (component 3)(kg in a m^3 mixture)',\n",
              "       'Water  (component 4)(kg in a m^3 mixture)',\n",
              "       'Superplasticizer (component 5)(kg in a m^3 mixture)',\n",
              "       'Coarse Aggregate  (component 6)(kg in a m^3 mixture)',\n",
              "       'Fine Aggregate (component 7)(kg in a m^3 mixture)', 'Age (day)',\n",
              "       'Concrete compressive strength(MPa, megapascals) '],\n",
              "      dtype='object')"
            ]
          },
          "metadata": {
            "tags": []
          },
          "execution_count": 8
        }
      ]
    },
    {
      "cell_type": "code",
      "metadata": {
        "id": "0pI6EOmVSYA9"
      },
      "source": [
        "# split dataframe into input and output\n",
        "data=df.iloc[:,:8]\n",
        "targets=df.iloc[:,-1]"
      ],
      "execution_count": 9,
      "outputs": []
    },
    {
      "cell_type": "code",
      "metadata": {
        "colab": {
          "base_uri": "https://localhost:8080/",
          "height": 968
        },
        "id": "VgcX-c4uV9H1",
        "outputId": "a527acbf-c284-4a8e-da94-a9b278d0ef96"
      },
      "source": [
        "# show all input data in histogram\n",
        "%matplotlib inline\n",
        "import matplotlib.pyplot as plt\n",
        "plt.style.use('seaborn-ticks')\n",
        "pd.DataFrame.hist(data,figsize = [30,30])\n",
        "plt.show()"
      ],
      "execution_count": 10,
      "outputs": [
        {
          "output_type": "display_data",
          "data": {
            "image/png": "[encoded data removed]",
            "text/plain": [
              "<Figure size 2160x2160 with 9 Axes>"
            ]
          },
          "metadata": {
            "tags": []
          }
        }
      ]
    },
    {
      "cell_type": "code",
      "metadata": {
        "id": "mel2k2Nwf0LI"
      },
      "source": [
        "# standardized or normalized the data (input variables)\n",
        "mean = data.mean(axis=0)\n",
        "data-= mean\n",
        "std = data.std(axis=0)\n",
        "data/= std"
      ],
      "execution_count": 11,
      "outputs": []
    },
    {
      "cell_type": "code",
      "metadata": {
        "id": "l-IZEthjV2pC"
      },
      "source": [
        "# standardized or normalized the data (output variables)\n",
        "targets_mean = targets.mean(axis=0)\n",
        "targets-= targets_mean\n",
        "targets_std = targets.std(axis=0)\n",
        "targets/= targets_std"
      ],
      "execution_count": 12,
      "outputs": []
    },
    {
      "cell_type": "code",
      "metadata": {
        "id": "e6Q4b8UpXI8a"
      },
      "source": [
        "# data spliting using machine learning spliting method\n",
        "from sklearn.model_selection import train_test_split\n",
        "X_train,X_test,y_train,y_test=train_test_split(data,targets,random_state=1)"
      ],
      "execution_count": 13,
      "outputs": []
    },
    {
      "cell_type": "code",
      "metadata": {
        "colab": {
          "base_uri": "https://localhost:8080/"
        },
        "id": "cxld28AodAxY",
        "outputId": "5be21f28-1e32-400a-f54f-a77149adc093"
      },
      "source": [
        "# check training data and training targets\n",
        "print(f\"Shape of training data :{X_train.shape},\\nShape of training targets:{y_train.shape}\")"
      ],
      "execution_count": 14,
      "outputs": [
        {
          "output_type": "stream",
          "text": [
            "Shape of training data :(772, 8),\n",
            "Shape of training targets:(772,)\n"
          ],
          "name": "stdout"
        }
      ]
    },
    {
      "cell_type": "code",
      "metadata": {
        "colab": {
          "base_uri": "https://localhost:8080/"
        },
        "id": "XsIXmksBdKGl",
        "outputId": "784f2a7f-615b-4cb3-8b60-0e857af8f1ec"
      },
      "source": [
        "# check testing data and testing targets\n",
        "print(f\"Shape of testing data :{X_test.shape},\\nShape of testing targets:{y_test.shape}\")"
      ],
      "execution_count": 15,
      "outputs": [
        {
          "output_type": "stream",
          "text": [
            "Shape of testing data :(258, 8),\n",
            "Shape of testing targets:(258,)\n"
          ],
          "name": "stdout"
        }
      ]
    },
    {
      "cell_type": "code",
      "metadata": {
        "id": "pJ4OdxP9g5Wa"
      },
      "source": [
        "# convert dataframe into numpy array\n",
        "X_train= np.asarray(X_train).astype('float32')\n",
        "X_test= np.asarray(X_test).astype('float32')\n",
        "y_train= np.asarray(y_train).astype('float32')\n",
        "y_test= np.asarray(y_test).astype('float32')\n"
      ],
      "execution_count": 16,
      "outputs": []
    },
    {
      "cell_type": "code",
      "metadata": {
        "id": "uTKLaC-_jgZC"
      },
      "source": [
        "# training data distrubted into validation data\n",
        "val_X = X_train[:230]\n",
        "partial_X_train=X_train[230:]\n",
        "val_y=y_train[:230]\n",
        "partial_y_train=y_train[230:]\n"
      ],
      "execution_count": 17,
      "outputs": []
    },
    {
      "cell_type": "code",
      "metadata": {
        "id": "yI9PhkMyhH9Q"
      },
      "source": [
        "# importing models libarires\n",
        "from keras import models, layers , optimizers"
      ],
      "execution_count": 18,
      "outputs": []
    },
    {
      "cell_type": "code",
      "metadata": {
        "id": "FBHIpQiNhLsk"
      },
      "source": [
        "# model building\n",
        "network=models.Sequential()\n",
        "network.add(tf.keras.layers.Dense(10,activation=\"relu\",input_shape=(X_train.shape[1],)))\n",
        "network.add(tf.keras.layers.Dropout(0.2))\n",
        "network.add(tf.keras.layers.Dense(8,activation=\"relu\"))\n",
        "network.add(tf.keras.layers.Dropout(0.2))\n",
        "#network.add(tf.keras.layers.Dense(6,activation=\"relu\"))\n",
        "#network.add(tf.keras.layers.Dropout(0.5))\n",
        "network.add(tf.keras.layers.Dense(1))\n",
        "\n"
      ],
      "execution_count": 19,
      "outputs": []
    },
    {
      "cell_type": "code",
      "metadata": {
        "colab": {
          "base_uri": "https://localhost:8080/"
        },
        "id": "vxNlTIfWihRB",
        "outputId": "b0f027a0-55e1-44ac-8280-132a8637eec1"
      },
      "source": [
        "# model summary\n",
        "network.summary()"
      ],
      "execution_count": 20,
      "outputs": [
        {
          "output_type": "stream",
          "text": [
            "Model: \"sequential\"\n",
            "_________________________________________________________________\n",
            "Layer (type)                 Output Shape              Param #   \n",
            "=================================================================\n",
            "dense (Dense)                (None, 10)                90        \n",
            "_________________________________________________________________\n",
            "dropout (Dropout)            (None, 10)                0         \n",
            "_________________________________________________________________\n",
            "dense_1 (Dense)              (None, 8)                 88        \n",
            "_________________________________________________________________\n",
            "dropout_1 (Dropout)          (None, 8)                 0         \n",
            "_________________________________________________________________\n",
            "dense_2 (Dense)              (None, 1)                 9         \n",
            "=================================================================\n",
            "Total params: 187\n",
            "Trainable params: 187\n",
            "Non-trainable params: 0\n",
            "_________________________________________________________________\n"
          ],
          "name": "stdout"
        }
      ]
    },
    {
      "cell_type": "code",
      "metadata": {
        "id": "DojP0-ZZipQE"
      },
      "source": [
        "# model compiling\n",
        "network.compile(optimizer=optimizers.RMSprop(lr=0.001), loss=\"mse\",metrics=['mae'])"
      ],
      "execution_count": 21,
      "outputs": []
    },
    {
      "cell_type": "code",
      "metadata": {
        "colab": {
          "base_uri": "https://localhost:8080/"
        },
        "id": "KE-wc1irh7dL",
        "outputId": "84845940-cb47-4235-b936-458b3589a60e"
      },
      "source": [
        "# model training\n",
        "history=network.fit(partial_X_train,partial_y_train,epochs=100,validation_data=(val_X,val_y),batch_size=1,verbose=1)"
      ],
      "execution_count": 22,
      "outputs": [
        {
          "output_type": "stream",
          "text": [
            "Epoch 1/100\n",
            "542/542 [==============================] - 2s 2ms/step - loss: 1.2823 - mae: 0.8776 - val_loss: 0.7559 - val_mae: 0.6881\n",
            "Epoch 2/100\n",
            "542/542 [==============================] - 1s 1ms/step - loss: 0.7628 - mae: 0.6994 - val_loss: 0.5719 - val_mae: 0.5958\n",
            "Epoch 3/100\n",
            "542/542 [==============================] - 1s 1ms/step - loss: 0.6401 - mae: 0.6212 - val_loss: 0.5090 - val_mae: 0.5617\n",
            "Epoch 4/100\n",
            "542/542 [==============================] - 1s 1ms/step - loss: 0.5244 - mae: 0.5696 - val_loss: 0.4719 - val_mae: 0.5413\n",
            "Epoch 5/100\n",
            "542/542 [==============================] - 1s 1ms/step - loss: 0.6051 - mae: 0.5985 - val_loss: 0.4467 - val_mae: 0.5293\n",
            "Epoch 6/100\n",
            "542/542 [==============================] - 1s 1ms/step - loss: 0.5790 - mae: 0.5975 - val_loss: 0.4310 - val_mae: 0.5206\n",
            "Epoch 7/100\n",
            "542/542 [==============================] - 1s 1ms/step - loss: 0.5153 - mae: 0.5622 - val_loss: 0.4160 - val_mae: 0.5104\n",
            "Epoch 8/100\n",
            "542/542 [==============================] - 1s 1ms/step - loss: 0.4491 - mae: 0.5205 - val_loss: 0.4121 - val_mae: 0.5080\n",
            "Epoch 9/100\n",
            "542/542 [==============================] - 1s 1ms/step - loss: 0.5405 - mae: 0.5648 - val_loss: 0.4044 - val_mae: 0.5033\n",
            "Epoch 10/100\n",
            "542/542 [==============================] - 1s 1ms/step - loss: 0.4730 - mae: 0.5280 - val_loss: 0.3970 - val_mae: 0.4978\n",
            "Epoch 11/100\n",
            "542/542 [==============================] - 1s 1ms/step - loss: 0.4246 - mae: 0.5123 - val_loss: 0.3872 - val_mae: 0.4910\n",
            "Epoch 12/100\n",
            "542/542 [==============================] - 1s 1ms/step - loss: 0.4485 - mae: 0.4983 - val_loss: 0.3853 - val_mae: 0.4884\n",
            "Epoch 13/100\n",
            "542/542 [==============================] - 1s 1ms/step - loss: 0.4106 - mae: 0.4969 - val_loss: 0.3734 - val_mae: 0.4839\n",
            "Epoch 14/100\n",
            "542/542 [==============================] - 1s 1ms/step - loss: 0.4488 - mae: 0.5076 - val_loss: 0.3758 - val_mae: 0.4857\n",
            "Epoch 15/100\n",
            "542/542 [==============================] - 1s 1ms/step - loss: 0.4205 - mae: 0.5026 - val_loss: 0.3566 - val_mae: 0.4735\n",
            "Epoch 16/100\n",
            "542/542 [==============================] - 1s 1ms/step - loss: 0.4336 - mae: 0.5058 - val_loss: 0.3503 - val_mae: 0.4693\n",
            "Epoch 17/100\n",
            "542/542 [==============================] - 1s 1ms/step - loss: 0.3725 - mae: 0.4590 - val_loss: 0.3523 - val_mae: 0.4702\n",
            "Epoch 18/100\n",
            "542/542 [==============================] - 1s 1ms/step - loss: 0.4079 - mae: 0.4958 - val_loss: 0.3509 - val_mae: 0.4661\n",
            "Epoch 19/100\n",
            "542/542 [==============================] - 1s 1ms/step - loss: 0.4076 - mae: 0.4824 - val_loss: 0.3305 - val_mae: 0.4570\n",
            "Epoch 20/100\n",
            "542/542 [==============================] - 1s 1ms/step - loss: 0.3709 - mae: 0.4696 - val_loss: 0.3189 - val_mae: 0.4503\n",
            "Epoch 21/100\n",
            "542/542 [==============================] - 1s 1ms/step - loss: 0.3286 - mae: 0.4407 - val_loss: 0.3177 - val_mae: 0.4463\n",
            "Epoch 22/100\n",
            "542/542 [==============================] - 1s 1ms/step - loss: 0.3962 - mae: 0.4821 - val_loss: 0.3035 - val_mae: 0.4383\n",
            "Epoch 23/100\n",
            "542/542 [==============================] - 1s 1ms/step - loss: 0.3906 - mae: 0.4552 - val_loss: 0.3016 - val_mae: 0.4411\n",
            "Epoch 24/100\n",
            "542/542 [==============================] - 1s 1ms/step - loss: 0.3593 - mae: 0.4576 - val_loss: 0.2948 - val_mae: 0.4395\n",
            "Epoch 25/100\n",
            "542/542 [==============================] - 1s 1ms/step - loss: 0.3413 - mae: 0.4434 - val_loss: 0.2945 - val_mae: 0.4390\n",
            "Epoch 26/100\n",
            "542/542 [==============================] - 1s 1ms/step - loss: 0.3039 - mae: 0.4382 - val_loss: 0.2893 - val_mae: 0.4354\n",
            "Epoch 27/100\n",
            "542/542 [==============================] - 1s 1ms/step - loss: 0.3314 - mae: 0.4325 - val_loss: 0.2715 - val_mae: 0.4193\n",
            "Epoch 28/100\n",
            "542/542 [==============================] - 1s 1ms/step - loss: 0.3323 - mae: 0.4491 - val_loss: 0.2825 - val_mae: 0.4297\n",
            "Epoch 29/100\n",
            "542/542 [==============================] - 1s 1ms/step - loss: 0.3199 - mae: 0.4240 - val_loss: 0.2637 - val_mae: 0.4117\n",
            "Epoch 30/100\n",
            "542/542 [==============================] - 1s 1ms/step - loss: 0.3856 - mae: 0.4676 - val_loss: 0.2693 - val_mae: 0.4176\n",
            "Epoch 31/100\n",
            "542/542 [==============================] - 1s 1ms/step - loss: 0.3872 - mae: 0.4680 - val_loss: 0.2653 - val_mae: 0.4113\n",
            "Epoch 32/100\n",
            "542/542 [==============================] - 1s 1ms/step - loss: 0.2837 - mae: 0.4088 - val_loss: 0.2564 - val_mae: 0.4032\n",
            "Epoch 33/100\n",
            "542/542 [==============================] - 1s 1ms/step - loss: 0.2604 - mae: 0.3830 - val_loss: 0.2573 - val_mae: 0.4085\n",
            "Epoch 34/100\n",
            "542/542 [==============================] - 1s 1ms/step - loss: 0.3226 - mae: 0.4454 - val_loss: 0.2386 - val_mae: 0.3895\n",
            "Epoch 35/100\n",
            "542/542 [==============================] - 1s 1ms/step - loss: 0.3044 - mae: 0.3998 - val_loss: 0.2396 - val_mae: 0.3923\n",
            "Epoch 36/100\n",
            "542/542 [==============================] - 1s 1ms/step - loss: 0.2689 - mae: 0.3969 - val_loss: 0.2514 - val_mae: 0.4017\n",
            "Epoch 37/100\n",
            "542/542 [==============================] - 1s 1ms/step - loss: 0.2741 - mae: 0.4054 - val_loss: 0.2423 - val_mae: 0.3994\n",
            "Epoch 38/100\n",
            "542/542 [==============================] - 1s 1ms/step - loss: 0.2841 - mae: 0.3953 - val_loss: 0.2445 - val_mae: 0.3989\n",
            "Epoch 39/100\n",
            "542/542 [==============================] - 1s 1ms/step - loss: 0.3233 - mae: 0.4250 - val_loss: 0.2313 - val_mae: 0.3879\n",
            "Epoch 40/100\n",
            "542/542 [==============================] - 1s 1ms/step - loss: 0.2489 - mae: 0.3781 - val_loss: 0.2370 - val_mae: 0.3887\n",
            "Epoch 41/100\n",
            "542/542 [==============================] - 1s 1ms/step - loss: 0.2772 - mae: 0.3930 - val_loss: 0.2493 - val_mae: 0.3995\n",
            "Epoch 42/100\n",
            "542/542 [==============================] - 1s 1ms/step - loss: 0.2815 - mae: 0.4025 - val_loss: 0.2530 - val_mae: 0.4030\n",
            "Epoch 43/100\n",
            "542/542 [==============================] - 1s 1ms/step - loss: 0.2718 - mae: 0.3977 - val_loss: 0.2597 - val_mae: 0.4108\n",
            "Epoch 44/100\n",
            "542/542 [==============================] - 1s 1ms/step - loss: 0.2770 - mae: 0.3942 - val_loss: 0.2455 - val_mae: 0.3937\n",
            "Epoch 45/100\n",
            "542/542 [==============================] - 1s 1ms/step - loss: 0.2841 - mae: 0.4035 - val_loss: 0.2634 - val_mae: 0.4107\n",
            "Epoch 46/100\n",
            "542/542 [==============================] - 1s 1ms/step - loss: 0.3036 - mae: 0.4149 - val_loss: 0.2293 - val_mae: 0.3769\n",
            "Epoch 47/100\n",
            "542/542 [==============================] - 1s 1ms/step - loss: 0.3027 - mae: 0.4043 - val_loss: 0.2628 - val_mae: 0.4106\n",
            "Epoch 48/100\n",
            "542/542 [==============================] - 1s 1ms/step - loss: 0.3278 - mae: 0.4314 - val_loss: 0.2361 - val_mae: 0.3870\n",
            "Epoch 49/100\n",
            "542/542 [==============================] - 1s 1ms/step - loss: 0.3356 - mae: 0.4370 - val_loss: 0.2366 - val_mae: 0.3866\n",
            "Epoch 50/100\n",
            "542/542 [==============================] - 1s 1ms/step - loss: 0.2941 - mae: 0.3989 - val_loss: 0.2437 - val_mae: 0.3933\n",
            "Epoch 51/100\n",
            "542/542 [==============================] - 1s 1ms/step - loss: 0.2764 - mae: 0.3966 - val_loss: 0.2290 - val_mae: 0.3791\n",
            "Epoch 52/100\n",
            "542/542 [==============================] - 1s 1ms/step - loss: 0.2772 - mae: 0.3817 - val_loss: 0.2264 - val_mae: 0.3817\n",
            "Epoch 53/100\n",
            "542/542 [==============================] - 1s 1ms/step - loss: 0.2439 - mae: 0.3739 - val_loss: 0.2428 - val_mae: 0.3952\n",
            "Epoch 54/100\n",
            "542/542 [==============================] - 1s 1ms/step - loss: 0.2817 - mae: 0.3865 - val_loss: 0.2237 - val_mae: 0.3762\n",
            "Epoch 55/100\n",
            "542/542 [==============================] - 1s 1ms/step - loss: 0.2902 - mae: 0.3978 - val_loss: 0.2317 - val_mae: 0.3826\n",
            "Epoch 56/100\n",
            "542/542 [==============================] - 1s 1ms/step - loss: 0.2522 - mae: 0.3753 - val_loss: 0.2203 - val_mae: 0.3734\n",
            "Epoch 57/100\n",
            "542/542 [==============================] - 1s 1ms/step - loss: 0.2854 - mae: 0.3954 - val_loss: 0.2640 - val_mae: 0.4093\n",
            "Epoch 58/100\n",
            "542/542 [==============================] - 1s 1ms/step - loss: 0.2520 - mae: 0.3862 - val_loss: 0.2341 - val_mae: 0.3877\n",
            "Epoch 59/100\n",
            "542/542 [==============================] - 1s 1ms/step - loss: 0.2497 - mae: 0.3647 - val_loss: 0.2372 - val_mae: 0.3899\n",
            "Epoch 60/100\n",
            "542/542 [==============================] - 1s 1ms/step - loss: 0.2622 - mae: 0.3789 - val_loss: 0.2270 - val_mae: 0.3797\n",
            "Epoch 61/100\n",
            "542/542 [==============================] - 1s 1ms/step - loss: 0.2425 - mae: 0.3642 - val_loss: 0.2287 - val_mae: 0.3802\n",
            "Epoch 62/100\n",
            "542/542 [==============================] - 1s 1ms/step - loss: 0.2980 - mae: 0.3952 - val_loss: 0.2348 - val_mae: 0.3891\n",
            "Epoch 63/100\n",
            "542/542 [==============================] - 1s 1ms/step - loss: 0.2258 - mae: 0.3476 - val_loss: 0.2276 - val_mae: 0.3827\n",
            "Epoch 64/100\n",
            "542/542 [==============================] - 1s 1ms/step - loss: 0.3077 - mae: 0.4109 - val_loss: 0.2332 - val_mae: 0.3844\n",
            "Epoch 65/100\n",
            "542/542 [==============================] - 1s 1ms/step - loss: 0.2615 - mae: 0.3778 - val_loss: 0.2241 - val_mae: 0.3769\n",
            "Epoch 66/100\n",
            "542/542 [==============================] - 1s 1ms/step - loss: 0.2949 - mae: 0.3964 - val_loss: 0.2247 - val_mae: 0.3814\n",
            "Epoch 67/100\n",
            "542/542 [==============================] - 1s 1ms/step - loss: 0.2482 - mae: 0.3662 - val_loss: 0.2411 - val_mae: 0.3944\n",
            "Epoch 68/100\n",
            "542/542 [==============================] - 1s 1ms/step - loss: 0.2822 - mae: 0.3890 - val_loss: 0.2472 - val_mae: 0.3999\n",
            "Epoch 69/100\n",
            "542/542 [==============================] - 1s 1ms/step - loss: 0.2716 - mae: 0.3840 - val_loss: 0.2284 - val_mae: 0.3842\n",
            "Epoch 70/100\n",
            "542/542 [==============================] - 1s 1ms/step - loss: 0.2475 - mae: 0.3753 - val_loss: 0.2267 - val_mae: 0.3844\n",
            "Epoch 71/100\n",
            "542/542 [==============================] - 1s 1ms/step - loss: 0.2335 - mae: 0.3605 - val_loss: 0.2056 - val_mae: 0.3609\n",
            "Epoch 72/100\n",
            "542/542 [==============================] - 1s 2ms/step - loss: 0.2652 - mae: 0.3870 - val_loss: 0.2222 - val_mae: 0.3809\n",
            "Epoch 73/100\n",
            "542/542 [==============================] - 1s 1ms/step - loss: 0.2212 - mae: 0.3495 - val_loss: 0.2228 - val_mae: 0.3813\n",
            "Epoch 74/100\n",
            "542/542 [==============================] - 1s 1ms/step - loss: 0.2132 - mae: 0.3450 - val_loss: 0.2246 - val_mae: 0.3779\n",
            "Epoch 75/100\n",
            "542/542 [==============================] - 1s 1ms/step - loss: 0.2464 - mae: 0.3667 - val_loss: 0.2224 - val_mae: 0.3767\n",
            "Epoch 76/100\n",
            "542/542 [==============================] - 1s 1ms/step - loss: 0.2301 - mae: 0.3595 - val_loss: 0.2169 - val_mae: 0.3732\n",
            "Epoch 77/100\n",
            "542/542 [==============================] - 1s 1ms/step - loss: 0.2375 - mae: 0.3484 - val_loss: 0.2168 - val_mae: 0.3727\n",
            "Epoch 78/100\n",
            "542/542 [==============================] - 1s 1ms/step - loss: 0.2518 - mae: 0.3732 - val_loss: 0.2261 - val_mae: 0.3801\n",
            "Epoch 79/100\n",
            "542/542 [==============================] - 1s 1ms/step - loss: 0.2535 - mae: 0.3737 - val_loss: 0.2194 - val_mae: 0.3755\n",
            "Epoch 80/100\n",
            "542/542 [==============================] - 1s 1ms/step - loss: 0.2491 - mae: 0.3730 - val_loss: 0.2241 - val_mae: 0.3806\n",
            "Epoch 81/100\n",
            "542/542 [==============================] - 1s 1ms/step - loss: 0.2603 - mae: 0.3816 - val_loss: 0.2061 - val_mae: 0.3618\n",
            "Epoch 82/100\n",
            "542/542 [==============================] - 1s 1ms/step - loss: 0.2459 - mae: 0.3645 - val_loss: 0.2291 - val_mae: 0.3803\n",
            "Epoch 83/100\n",
            "542/542 [==============================] - 1s 1ms/step - loss: 0.2764 - mae: 0.3836 - val_loss: 0.2282 - val_mae: 0.3795\n",
            "Epoch 84/100\n",
            "542/542 [==============================] - 1s 1ms/step - loss: 0.2295 - mae: 0.3545 - val_loss: 0.2011 - val_mae: 0.3501\n",
            "Epoch 85/100\n",
            "542/542 [==============================] - 1s 1ms/step - loss: 0.2440 - mae: 0.3663 - val_loss: 0.2114 - val_mae: 0.3680\n",
            "Epoch 86/100\n",
            "542/542 [==============================] - 1s 1ms/step - loss: 0.2768 - mae: 0.3850 - val_loss: 0.2081 - val_mae: 0.3634\n",
            "Epoch 87/100\n",
            "542/542 [==============================] - 1s 1ms/step - loss: 0.2585 - mae: 0.3661 - val_loss: 0.2093 - val_mae: 0.3659\n",
            "Epoch 88/100\n",
            "542/542 [==============================] - 1s 1ms/step - loss: 0.2121 - mae: 0.3494 - val_loss: 0.2096 - val_mae: 0.3687\n",
            "Epoch 89/100\n",
            "542/542 [==============================] - 1s 1ms/step - loss: 0.2236 - mae: 0.3516 - val_loss: 0.2098 - val_mae: 0.3675\n",
            "Epoch 90/100\n",
            "542/542 [==============================] - 1s 1ms/step - loss: 0.2817 - mae: 0.3723 - val_loss: 0.2479 - val_mae: 0.3997\n",
            "Epoch 91/100\n",
            "542/542 [==============================] - 1s 1ms/step - loss: 0.2237 - mae: 0.3474 - val_loss: 0.2076 - val_mae: 0.3638\n",
            "Epoch 92/100\n",
            "542/542 [==============================] - 1s 1ms/step - loss: 0.2490 - mae: 0.3696 - val_loss: 0.2145 - val_mae: 0.3685\n",
            "Epoch 93/100\n",
            "542/542 [==============================] - 1s 1ms/step - loss: 0.2497 - mae: 0.3699 - val_loss: 0.2229 - val_mae: 0.3771\n",
            "Epoch 94/100\n",
            "542/542 [==============================] - 1s 1ms/step - loss: 0.2853 - mae: 0.3932 - val_loss: 0.2435 - val_mae: 0.3861\n",
            "Epoch 95/100\n",
            "542/542 [==============================] - 1s 1ms/step - loss: 0.2544 - mae: 0.3720 - val_loss: 0.2324 - val_mae: 0.3841\n",
            "Epoch 96/100\n",
            "542/542 [==============================] - 1s 1ms/step - loss: 0.2633 - mae: 0.3814 - val_loss: 0.2093 - val_mae: 0.3624\n",
            "Epoch 97/100\n",
            "542/542 [==============================] - 1s 1ms/step - loss: 0.2076 - mae: 0.3359 - val_loss: 0.2067 - val_mae: 0.3619\n",
            "Epoch 98/100\n",
            "542/542 [==============================] - 1s 1ms/step - loss: 0.2249 - mae: 0.3456 - val_loss: 0.2214 - val_mae: 0.3691\n",
            "Epoch 99/100\n",
            "542/542 [==============================] - 1s 1ms/step - loss: 0.2367 - mae: 0.3525 - val_loss: 0.2084 - val_mae: 0.3616\n",
            "Epoch 100/100\n",
            "542/542 [==============================] - 1s 1ms/step - loss: 0.2811 - mae: 0.3902 - val_loss: 0.2229 - val_mae: 0.3745\n"
          ],
          "name": "stdout"
        }
      ]
    },
    {
      "cell_type": "code",
      "metadata": {
        "colab": {
          "base_uri": "https://localhost:8080/",
          "height": 297
        },
        "id": "tL65MoX3k-_1",
        "outputId": "138667f3-6da9-4945-e4a3-27b4f4a42f00"
      },
      "source": [
        "# show training and validation MAE\n",
        "y1=history.history['mae']\n",
        "x1=history.history['val_mae']\n",
        "x=range(100)\n",
        "plt.scatter(x,y1 , label= \"TRAINING MAE Score\", color= \"green\", marker= \"*\", s=100)\n",
        "plt.scatter(x,x1, label= \"VALIdation MAE Score\", color= \"red\", marker= \"^\", s=100)\n",
        "plt.xlabel('Epochs')\n",
        "plt.ylabel('Mean Absoulte Error')\n",
        "plt.title('TRAINING MAE AND validation MAE!')\n",
        "plt.legend()\n",
        "plt.grid()\n",
        "plt.show()\n"
      ],
      "execution_count": 23,
      "outputs": [
        {
          "output_type": "display_data",
          "data": {
            "image/png": "[encoded data removed]",
            "text/plain": [
              "<Figure size 432x288 with 1 Axes>"
            ]
          },
          "metadata": {
            "tags": []
          }
        }
      ]
    },
    {
      "cell_type": "code",
      "metadata": {
        "colab": {
          "base_uri": "https://localhost:8080/",
          "height": 297
        },
        "id": "XY28DpqQlLYr",
        "outputId": "3b4e1dc9-f106-4eb7-aa77-edaebe948198"
      },
      "source": [
        "#show training and validation loss in graph\n",
        "loss = history.history['loss']\n",
        "val_loss = history.history['val_loss']\n",
        "epochs = range(1, len(loss) + 1)\n",
        "plt.plot(epochs, loss, 'ro', label='Training loss')\n",
        "plt.plot(epochs, val_loss, 'b', label='Validation loss')\n",
        "plt.title('Training and validation loss')\n",
        "plt.xlabel('Epochs')\n",
        "plt.ylabel('Loss')\n",
        "plt.legend()\n",
        "plt.grid()\n",
        "plt.show()"
      ],
      "execution_count": 24,
      "outputs": [
        {
          "output_type": "display_data",
          "data": {
            "image/png": "[encoded data removed]",
            "text/plain": [
              "<Figure size 432x288 with 1 Axes>"
            ]
          },
          "metadata": {
            "tags": []
          }
        }
      ]
    },
    {
      "cell_type": "code",
      "metadata": {
        "colab": {
          "base_uri": "https://localhost:8080/"
        },
        "id": "aedgvZfCoEqr",
        "outputId": "b2d5c0e7-cd96-41e0-ebc3-007be5c3c9f3"
      },
      "source": [
        "# model evaluating on test data & label\n",
        "test_mse_score, test_mae_score = network.evaluate(X_test, y_test)"
      ],
      "execution_count": 25,
      "outputs": [
        {
          "output_type": "stream",
          "text": [
            "9/9 [==============================] - 0s 2ms/step - loss: 0.2362 - mae: 0.3771\n"
          ],
          "name": "stdout"
        }
      ]
    },
    {
      "cell_type": "code",
      "metadata": {
        "colab": {
          "base_uri": "https://localhost:8080/"
        },
        "id": "VGsxBThTqvjm",
        "outputId": "b7c5b2d9-d68e-4104-88ef-fc1731202743"
      },
      "source": [
        "# check test mean squared error\n",
        "test_mse_score"
      ],
      "execution_count": 26,
      "outputs": [
        {
          "output_type": "execute_result",
          "data": {
            "text/plain": [
              "0.23617005348205566"
            ]
          },
          "metadata": {
            "tags": []
          },
          "execution_count": 26
        }
      ]
    },
    {
      "cell_type": "code",
      "metadata": {
        "colab": {
          "base_uri": "https://localhost:8080/"
        },
        "id": "4Q-EgYVztMMt",
        "outputId": "ab6b05db-f107-4332-b4fa-fd1e57cf01c3"
      },
      "source": [
        "# check test mean absoulte error\n",
        "test_mae_score"
      ],
      "execution_count": 27,
      "outputs": [
        {
          "output_type": "execute_result",
          "data": {
            "text/plain": [
              "0.37714216113090515"
            ]
          },
          "metadata": {
            "tags": []
          },
          "execution_count": 27
        }
      ]
    },
    {
      "cell_type": "code",
      "metadata": {
        "id": "qepWbko8rXy7"
      },
      "source": [
        "# check presdictions on testing data\n",
        "y_pred = network.predict(X_test)\n",
        "y_pred=y_pred*targets_std+targets_mean"
      ],
      "execution_count": 28,
      "outputs": []
    },
    {
      "cell_type": "code",
      "metadata": {
        "colab": {
          "base_uri": "https://localhost:8080/",
          "height": 282
        },
        "id": "osFYrcPkrnnE",
        "outputId": "c64f8ab9-6e0b-4b28-db58-467b5721cb46"
      },
      "source": [
        "# check ploting of aggreted and actual values\n",
        "plt.figure(figsize=(20,5))\n",
        "plt.subplot(1, 2, 1 )\n",
        "plt.hist(targets)\n",
        "plt.xlabel('Original target value')\n",
        "plt.ylabel('count')\n",
        "plt.subplot(1, 2, 2)\n",
        "plt.hist(y_pred)\n",
        "plt.xlabel('Aggregated target value')\n",
        "plt.show()"
      ],
      "execution_count": 29,
      "outputs": [
        {
          "output_type": "display_data",
          "data": {
            "image/png": "[encoded data removed]",
            "text/plain": [
              "<Figure size 1440x360 with 2 Axes>"
            ]
          },
          "metadata": {
            "tags": []
          }
        }
      ]
    },
    {
      "cell_type": "code",
      "metadata": {
        "id": "-YIuldnqskJz"
      },
      "source": [
        ""
      ],
      "execution_count": 29,
      "outputs": []
    }
  ]
}